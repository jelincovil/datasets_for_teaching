{
 "cells": [
  {
   "cell_type": "markdown",
   "id": "778da968",
   "metadata": {},
   "source": [
    "# Desafio LATAM Data Science 3\n",
    "\n",
    "## 0 Modulos"
   ]
  },
  {
   "cell_type": "code",
   "execution_count": null,
   "id": "cc17ce59",
   "metadata": {},
   "outputs": [],
   "source": [
    "# 1 Carga de modulos\n",
    "import pandas as pd\n",
    "import numpy as np\n",
    "import seaborn as sns\n",
    "\n",
    "from sklearn.impute import SimpleImputer\n",
    "from statsmodels.stats.outliers_influence import variance_inflation_factor\n",
    "from sklearn.preprocessing import OrdinalEncoder\n",
    "from sklearn.model_selection import train_test_split, cross_val_score\n",
    "from sklearn.ensemble import RandomForestRegressor\n",
    "from sklearn.metrics import mean_absolute_error\n",
    "from sklearn.model_selection import cross_val_score, GridSearchCV\n",
    "from sklearn.pipeline import Pipeline\n",
    "from sklearn.compose import ColumnTransformer\n",
    "from statsmodels.stats.outliers_influence import variance_inflation_factor\n"
   ]
  },
  {
   "cell_type": "markdown",
   "id": "f79b9f86",
   "metadata": {},
   "source": [
    "## 1 Carga y exploración de datos"
   ]
  },
  {
   "cell_type": "code",
   "execution_count": 48,
   "id": "ed39625a",
   "metadata": {},
   "outputs": [
    {
     "name": "stdout",
     "output_type": "stream",
     "text": [
      "<class 'pandas.core.frame.DataFrame'>\n",
      "Index: 362 entries, 0 to 461\n",
      "Data columns (total 16 columns):\n",
      " #   Column                         Non-Null Count  Dtype  \n",
      "---  ------                         --------------  -----  \n",
      " 0   surface_area                   362 non-null    float64\n",
      " 1   agricultural_land              358 non-null    float64\n",
      " 2   forest_area                    357 non-null    float64\n",
      " 3   armed_forces_total             318 non-null    float64\n",
      " 4   urban_pop_major_cities         360 non-null    float64\n",
      " 5   urban_pop_minor_cities         360 non-null    float64\n",
      " 6   national_income                362 non-null    object \n",
      " 7   inflation_annual               146 non-null    float64\n",
      " 8   inflation_monthly              156 non-null    float64\n",
      " 9   inflation_weekly               20 non-null     float64\n",
      " 10  mobile_subscriptions           362 non-null    object \n",
      " 11  internet_users                 362 non-null    object \n",
      " 12  secure_internet_servers_total  352 non-null    float64\n",
      " 13  improved_sanitation            362 non-null    object \n",
      " 14  women_parliament_seats_rate    362 non-null    object \n",
      " 15  life_expectancy                362 non-null    float64\n",
      "dtypes: float64(11), object(5)\n",
      "memory usage: 48.1+ KB\n"
     ]
    }
   ],
   "source": [
    "df = pd.read_csv('train.csv', index_col =0)\n",
    "df.info()"
   ]
  },
  {
   "cell_type": "code",
   "execution_count": 49,
   "id": "2f8a800a",
   "metadata": {},
   "outputs": [
    {
     "data": {
      "text/plain": [
       "agricultural_land                  4\n",
       "forest_area                        5\n",
       "armed_forces_total                44\n",
       "urban_pop_major_cities             2\n",
       "urban_pop_minor_cities             2\n",
       "inflation_annual                 216\n",
       "inflation_monthly                206\n",
       "inflation_weekly                 342\n",
       "secure_internet_servers_total     10\n",
       "dtype: int64"
      ]
     },
     "execution_count": 49,
     "metadata": {},
     "output_type": "execute_result"
    }
   ],
   "source": [
    "# Contamos los datos nulos por columna\n",
    "df.isnull().sum()[lambda x: x>0]"
   ]
  },
  {
   "cell_type": "markdown",
   "id": "12d9cd8b",
   "metadata": {},
   "source": [
    "Existe variables con demasiados valores falatantes (e.g `inflation_weekly`) y otras con menos `forest_area`. Extraeremos las primeras y aplicaremos imputación a las segundas."
   ]
  },
  {
   "cell_type": "code",
   "execution_count": 50,
   "id": "588f6ed5",
   "metadata": {},
   "outputs": [],
   "source": [
    "# Extraigo los caso donde hay muchas datos faltantes\n",
    "df = df.drop(['inflation_annual','inflation_monthly', 'inflation_weekly'], axis = 1)"
   ]
  },
  {
   "cell_type": "code",
   "execution_count": 51,
   "id": "00eee0ec",
   "metadata": {},
   "outputs": [
    {
     "data": {
      "text/plain": [
       "pandas.core.frame.DataFrame"
      ]
     },
     "execution_count": 51,
     "metadata": {},
     "output_type": "execute_result"
    }
   ],
   "source": [
    "# Imputacion de datos faltantes por media de cada columna\n",
    "imputer = SimpleImputer(strategy='mean')\n",
    "\n",
    "num_cols = df.select_dtypes(include='number').columns\n",
    "df[num_cols] = imputer.fit_transform(df[num_cols])\n",
    "type(df)"
   ]
  },
  {
   "cell_type": "code",
   "execution_count": 52,
   "id": "c6c5e70d",
   "metadata": {},
   "outputs": [
    {
     "data": {
      "text/plain": [
       "0"
      ]
     },
     "execution_count": 52,
     "metadata": {},
     "output_type": "execute_result"
    }
   ],
   "source": [
    "# Verifcamos si quedan obs perdidas en total\n",
    "df.isnull().sum().sum()"
   ]
  },
  {
   "cell_type": "markdown",
   "id": "819c6a4f",
   "metadata": {},
   "source": [
    "## 2 Descripción numerica y grafica de los datos"
   ]
  },
  {
   "cell_type": "code",
   "execution_count": 53,
   "id": "60687318",
   "metadata": {},
   "outputs": [
    {
     "data": {
      "text/html": [
       "<div>\n",
       "<style scoped>\n",
       "    .dataframe tbody tr th:only-of-type {\n",
       "        vertical-align: middle;\n",
       "    }\n",
       "\n",
       "    .dataframe tbody tr th {\n",
       "        vertical-align: top;\n",
       "    }\n",
       "\n",
       "    .dataframe thead th {\n",
       "        text-align: right;\n",
       "    }\n",
       "</style>\n",
       "<table border=\"1\" class=\"dataframe\">\n",
       "  <thead>\n",
       "    <tr style=\"text-align: right;\">\n",
       "      <th></th>\n",
       "      <th>surface_area</th>\n",
       "      <th>agricultural_land</th>\n",
       "      <th>forest_area</th>\n",
       "      <th>armed_forces_total</th>\n",
       "      <th>urban_pop_major_cities</th>\n",
       "      <th>urban_pop_minor_cities</th>\n",
       "      <th>secure_internet_servers_total</th>\n",
       "      <th>life_expectancy</th>\n",
       "    </tr>\n",
       "  </thead>\n",
       "  <tbody>\n",
       "    <tr>\n",
       "      <th>count</th>\n",
       "      <td>3.620000e+02</td>\n",
       "      <td>3.620000e+02</td>\n",
       "      <td>3.620000e+02</td>\n",
       "      <td>3.620000e+02</td>\n",
       "      <td>362.000000</td>\n",
       "      <td>362.000000</td>\n",
       "      <td>3.620000e+02</td>\n",
       "      <td>362.000000</td>\n",
       "    </tr>\n",
       "    <tr>\n",
       "      <th>mean</th>\n",
       "      <td>4.021884e+06</td>\n",
       "      <td>1.594881e+08</td>\n",
       "      <td>1.204151e+08</td>\n",
       "      <td>9.849864e+05</td>\n",
       "      <td>27.659456</td>\n",
       "      <td>29.175242</td>\n",
       "      <td>2.949654e+08</td>\n",
       "      <td>71.059691</td>\n",
       "    </tr>\n",
       "    <tr>\n",
       "      <th>std</th>\n",
       "      <td>1.234491e+07</td>\n",
       "      <td>4.936564e+08</td>\n",
       "      <td>3.770239e+08</td>\n",
       "      <td>2.806256e+06</td>\n",
       "      <td>20.455984</td>\n",
       "      <td>21.147669</td>\n",
       "      <td>7.133108e+08</td>\n",
       "      <td>8.332818</td>\n",
       "    </tr>\n",
       "    <tr>\n",
       "      <th>min</th>\n",
       "      <td>3.030000e+01</td>\n",
       "      <td>3.000000e+02</td>\n",
       "      <td>0.000000e+00</td>\n",
       "      <td>5.000000e+01</td>\n",
       "      <td>0.091444</td>\n",
       "      <td>0.074575</td>\n",
       "      <td>4.002500e+04</td>\n",
       "      <td>48.850634</td>\n",
       "    </tr>\n",
       "    <tr>\n",
       "      <th>25%</th>\n",
       "      <td>2.783000e+04</td>\n",
       "      <td>1.101326e+06</td>\n",
       "      <td>5.083646e+05</td>\n",
       "      <td>1.585000e+04</td>\n",
       "      <td>10.637942</td>\n",
       "      <td>11.033595</td>\n",
       "      <td>3.522556e+06</td>\n",
       "      <td>65.469854</td>\n",
       "    </tr>\n",
       "    <tr>\n",
       "      <th>50%</th>\n",
       "      <td>2.037745e+05</td>\n",
       "      <td>5.506865e+06</td>\n",
       "      <td>4.012868e+06</td>\n",
       "      <td>8.659000e+04</td>\n",
       "      <td>24.545311</td>\n",
       "      <td>26.969871</td>\n",
       "      <td>2.911352e+07</td>\n",
       "      <td>73.238024</td>\n",
       "    </tr>\n",
       "    <tr>\n",
       "      <th>75%</th>\n",
       "      <td>1.081610e+06</td>\n",
       "      <td>4.286507e+07</td>\n",
       "      <td>2.347027e+07</td>\n",
       "      <td>9.849864e+05</td>\n",
       "      <td>38.463620</td>\n",
       "      <td>43.299790</td>\n",
       "      <td>2.508172e+08</td>\n",
       "      <td>77.125610</td>\n",
       "    </tr>\n",
       "    <tr>\n",
       "      <th>max</th>\n",
       "      <td>1.343253e+08</td>\n",
       "      <td>5.067600e+09</td>\n",
       "      <td>4.132117e+09</td>\n",
       "      <td>2.720662e+07</td>\n",
       "      <td>92.409069</td>\n",
       "      <td>89.142904</td>\n",
       "      <td>8.207343e+09</td>\n",
       "      <td>83.480488</td>\n",
       "    </tr>\n",
       "  </tbody>\n",
       "</table>\n",
       "</div>"
      ],
      "text/plain": [
       "       surface_area  agricultural_land   forest_area  armed_forces_total  \\\n",
       "count  3.620000e+02       3.620000e+02  3.620000e+02        3.620000e+02   \n",
       "mean   4.021884e+06       1.594881e+08  1.204151e+08        9.849864e+05   \n",
       "std    1.234491e+07       4.936564e+08  3.770239e+08        2.806256e+06   \n",
       "min    3.030000e+01       3.000000e+02  0.000000e+00        5.000000e+01   \n",
       "25%    2.783000e+04       1.101326e+06  5.083646e+05        1.585000e+04   \n",
       "50%    2.037745e+05       5.506865e+06  4.012868e+06        8.659000e+04   \n",
       "75%    1.081610e+06       4.286507e+07  2.347027e+07        9.849864e+05   \n",
       "max    1.343253e+08       5.067600e+09  4.132117e+09        2.720662e+07   \n",
       "\n",
       "       urban_pop_major_cities  urban_pop_minor_cities  \\\n",
       "count              362.000000              362.000000   \n",
       "mean                27.659456               29.175242   \n",
       "std                 20.455984               21.147669   \n",
       "min                  0.091444                0.074575   \n",
       "25%                 10.637942               11.033595   \n",
       "50%                 24.545311               26.969871   \n",
       "75%                 38.463620               43.299790   \n",
       "max                 92.409069               89.142904   \n",
       "\n",
       "       secure_internet_servers_total  life_expectancy  \n",
       "count                   3.620000e+02       362.000000  \n",
       "mean                    2.949654e+08        71.059691  \n",
       "std                     7.133108e+08         8.332818  \n",
       "min                     4.002500e+04        48.850634  \n",
       "25%                     3.522556e+06        65.469854  \n",
       "50%                     2.911352e+07        73.238024  \n",
       "75%                     2.508172e+08        77.125610  \n",
       "max                     8.207343e+09        83.480488  "
      ]
     },
     "execution_count": 53,
     "metadata": {},
     "output_type": "execute_result"
    }
   ],
   "source": [
    "df.describe()"
   ]
  },
  {
   "cell_type": "code",
   "execution_count": 54,
   "id": "e8920457",
   "metadata": {},
   "outputs": [
    {
     "data": {
      "text/html": [
       "<div>\n",
       "<style scoped>\n",
       "    .dataframe tbody tr th:only-of-type {\n",
       "        vertical-align: middle;\n",
       "    }\n",
       "\n",
       "    .dataframe tbody tr th {\n",
       "        vertical-align: top;\n",
       "    }\n",
       "\n",
       "    .dataframe thead th {\n",
       "        text-align: right;\n",
       "    }\n",
       "</style>\n",
       "<table border=\"1\" class=\"dataframe\">\n",
       "  <thead>\n",
       "    <tr style=\"text-align: right;\">\n",
       "      <th></th>\n",
       "      <th>count</th>\n",
       "      <th>mean</th>\n",
       "      <th>std</th>\n",
       "      <th>min</th>\n",
       "      <th>25%</th>\n",
       "      <th>50%</th>\n",
       "      <th>75%</th>\n",
       "      <th>max</th>\n",
       "    </tr>\n",
       "    <tr>\n",
       "      <th>improved_sanitation</th>\n",
       "      <th></th>\n",
       "      <th></th>\n",
       "      <th></th>\n",
       "      <th></th>\n",
       "      <th></th>\n",
       "      <th></th>\n",
       "      <th></th>\n",
       "      <th></th>\n",
       "    </tr>\n",
       "  </thead>\n",
       "  <tbody>\n",
       "    <tr>\n",
       "      <th>high access</th>\n",
       "      <td>47.0</td>\n",
       "      <td>73.247753</td>\n",
       "      <td>3.075589</td>\n",
       "      <td>65.427780</td>\n",
       "      <td>71.942106</td>\n",
       "      <td>73.839585</td>\n",
       "      <td>74.464634</td>\n",
       "      <td>80.128878</td>\n",
       "    </tr>\n",
       "    <tr>\n",
       "      <th>low access</th>\n",
       "      <td>55.0</td>\n",
       "      <td>61.828680</td>\n",
       "      <td>4.835226</td>\n",
       "      <td>49.331463</td>\n",
       "      <td>58.317622</td>\n",
       "      <td>62.033390</td>\n",
       "      <td>66.069134</td>\n",
       "      <td>69.102927</td>\n",
       "    </tr>\n",
       "    <tr>\n",
       "      <th>medium access</th>\n",
       "      <td>54.0</td>\n",
       "      <td>67.649673</td>\n",
       "      <td>6.740083</td>\n",
       "      <td>48.850634</td>\n",
       "      <td>64.672562</td>\n",
       "      <td>69.060368</td>\n",
       "      <td>72.091201</td>\n",
       "      <td>77.419220</td>\n",
       "    </tr>\n",
       "    <tr>\n",
       "      <th>no info</th>\n",
       "      <td>18.0</td>\n",
       "      <td>75.682654</td>\n",
       "      <td>8.843511</td>\n",
       "      <td>54.690244</td>\n",
       "      <td>73.552823</td>\n",
       "      <td>79.670305</td>\n",
       "      <td>81.141463</td>\n",
       "      <td>83.480488</td>\n",
       "    </tr>\n",
       "    <tr>\n",
       "      <th>very high access</th>\n",
       "      <td>155.0</td>\n",
       "      <td>77.020089</td>\n",
       "      <td>3.858466</td>\n",
       "      <td>68.104000</td>\n",
       "      <td>74.170524</td>\n",
       "      <td>76.836195</td>\n",
       "      <td>80.642291</td>\n",
       "      <td>83.331951</td>\n",
       "    </tr>\n",
       "    <tr>\n",
       "      <th>very low access</th>\n",
       "      <td>33.0</td>\n",
       "      <td>58.390987</td>\n",
       "      <td>4.371564</td>\n",
       "      <td>49.105293</td>\n",
       "      <td>57.095000</td>\n",
       "      <td>59.121976</td>\n",
       "      <td>61.666390</td>\n",
       "      <td>64.291829</td>\n",
       "    </tr>\n",
       "  </tbody>\n",
       "</table>\n",
       "</div>"
      ],
      "text/plain": [
       "                     count       mean       std        min        25%  \\\n",
       "improved_sanitation                                                     \n",
       "high access           47.0  73.247753  3.075589  65.427780  71.942106   \n",
       "low access            55.0  61.828680  4.835226  49.331463  58.317622   \n",
       "medium access         54.0  67.649673  6.740083  48.850634  64.672562   \n",
       "no info               18.0  75.682654  8.843511  54.690244  73.552823   \n",
       "very high access     155.0  77.020089  3.858466  68.104000  74.170524   \n",
       "very low access       33.0  58.390987  4.371564  49.105293  57.095000   \n",
       "\n",
       "                           50%        75%        max  \n",
       "improved_sanitation                                   \n",
       "high access          73.839585  74.464634  80.128878  \n",
       "low access           62.033390  66.069134  69.102927  \n",
       "medium access        69.060368  72.091201  77.419220  \n",
       "no info              79.670305  81.141463  83.480488  \n",
       "very high access     76.836195  80.642291  83.331951  \n",
       "very low access      59.121976  61.666390  64.291829  "
      ]
     },
     "execution_count": 54,
     "metadata": {},
     "output_type": "execute_result"
    }
   ],
   "source": [
    "# Descripción por grupo\n",
    "df.groupby('improved_sanitation')['life_expectancy'].describe()"
   ]
  },
  {
   "cell_type": "markdown",
   "id": "4e3c70b3",
   "metadata": {},
   "source": [
    "# 3 Correlación y multicolinearidad"
   ]
  },
  {
   "cell_type": "code",
   "execution_count": 55,
   "id": "9d2ed424",
   "metadata": {},
   "outputs": [
    {
     "data": {
      "text/plain": [
       "[('surface_area', 'agricultural_land'),\n",
       " ('surface_area', 'forest_area'),\n",
       " ('surface_area', 'armed_forces_total'),\n",
       " ('agricultural_land', 'surface_area'),\n",
       " ('agricultural_land', 'forest_area'),\n",
       " ('agricultural_land', 'armed_forces_total'),\n",
       " ('forest_area', 'surface_area'),\n",
       " ('forest_area', 'agricultural_land'),\n",
       " ('forest_area', 'armed_forces_total'),\n",
       " ('armed_forces_total', 'surface_area'),\n",
       " ('armed_forces_total', 'agricultural_land'),\n",
       " ('armed_forces_total', 'forest_area')]"
      ]
     },
     "execution_count": 55,
     "metadata": {},
     "output_type": "execute_result"
    }
   ],
   "source": [
    "c = df.select_dtypes(include='number').corr()\n",
    "high_pairs = c.abs().stack()[lambda s: (s>0.85) & (s<1)]\n",
    "high_pairs.index.tolist()\n"
   ]
  },
  {
   "cell_type": "code",
   "execution_count": 56,
   "id": "d1125cab",
   "metadata": {},
   "outputs": [
    {
     "data": {
      "text/plain": [
       "<AxesSubplot:>"
      ]
     },
     "execution_count": 56,
     "metadata": {},
     "output_type": "execute_result"
    },
    {
     "data": {
      "image/png": "[encoded data removed]",
      "text/plain": [
       "<Figure size 640x480 with 2 Axes>"
      ]
     },
     "metadata": {},
     "output_type": "display_data"
    }
   ],
   "source": [
    "# grafico de calor\n",
    "sns.heatmap(c_high, cmap='PRGn', annot=True)"
   ]
  },
  {
   "cell_type": "code",
   "execution_count": 57,
   "id": "2fdae1db",
   "metadata": {},
   "outputs": [
    {
     "name": "stdout",
     "output_type": "stream",
     "text": [
      "                         feature         VIF\n",
      "6  secure_internet_servers_total    1.280135\n",
      "4         urban_pop_major_cities    1.502961\n",
      "5         urban_pop_minor_cities    1.507170\n",
      "3             armed_forces_total   12.335359\n",
      "2                    forest_area   42.975558\n",
      "1              agricultural_land   69.523616\n",
      "0                   surface_area  136.259330\n"
     ]
    }
   ],
   "source": [
    "# Extrare el coeficiente VIF de las variablesnumericas\n",
    "X_vif = df.select_dtypes(include=[np.number]).drop(columns=['life_expectancy'])\n",
    "\n",
    "# Calcular VIF\n",
    "vif_df = pd.DataFrame()\n",
    "vif_df['feature'] = X_vif.columns\n",
    "vif_df['VIF'] = [variance_inflation_factor(X_vif.values, i) for i in range(X_vif.shape[1])]\n",
    "\n",
    "# MOstrar variables con alta VIF\n",
    "print(vif_df.sort_values(by='VIF', ascending= True))"
   ]
  },
  {
   "cell_type": "code",
   "execution_count": 58,
   "id": "611c9d48",
   "metadata": {},
   "outputs": [],
   "source": [
    "## Variable a retirar\n",
    "out = ['surface_area', 'armed_forces_total', 'forest_area', 'agricultural_land']\n",
    "df = df.drop(columns = out).reset_index(drop=True)\n"
   ]
  },
  {
   "cell_type": "markdown",
   "id": "218d21f2",
   "metadata": {},
   "source": [
    "# 4 Data Visualization\n"
   ]
  },
  {
   "cell_type": "code",
   "execution_count": 59,
   "id": "ac9e785e",
   "metadata": {},
   "outputs": [
    {
     "data": {
      "text/plain": [
       "<AxesSubplot:title={'center':'life_expectancy'}, xlabel='improved_sanitation'>"
      ]
     },
     "execution_count": 59,
     "metadata": {},
     "output_type": "execute_result"
    },
    {
     "data": {
      "image/png": "[encoded data removed]",
      "text/plain": [
       "<Figure size 640x480 with 1 Axes>"
      ]
     },
     "metadata": {},
     "output_type": "display_data"
    },
    {
     "data": {
      "image/png": "[encoded data removed]",
      "text/plain": [
       "<Figure size 640x480 with 1 Axes>"
      ]
     },
     "metadata": {},
     "output_type": "display_data"
    },
    {
     "data": {
      "image/png": "[encoded data removed]",
      "text/plain": [
       "<Figure size 640x480 with 1 Axes>"
      ]
     },
     "metadata": {},
     "output_type": "display_data"
    }
   ],
   "source": [
    "# Histograma de pesranza de vida \n",
    "df['life_expectancy'].plot.hist()\n",
    "df.boxplot(column='life_expectancy', by ='national_income')\n",
    "df.boxplot(column = 'life_expectancy', by = 'improved_sanitation')\n"
   ]
  },
  {
   "cell_type": "markdown",
   "id": "ac828086",
   "metadata": {},
   "source": [
    "# 5 Verificación de los balances"
   ]
  },
  {
   "cell_type": "code",
   "execution_count": 60,
   "id": "a6c8920e",
   "metadata": {},
   "outputs": [
    {
     "name": "stdout",
     "output_type": "stream",
     "text": [
      "internet_users\n",
      "41 per 100 people      8\n",
      "60 per 100 people      7\n",
      "46 per 100 people      7\n",
      "unknown                6\n",
      "66 per 100 people      5\n",
      "                      ..\n",
      "64 per 1000 people     1\n",
      "154 per 1000 people    1\n",
      "37 per 1000 people     1\n",
      "30 per 1000 people     1\n",
      "374 per 1000 people    1\n",
      "Name: count, Length: 198, dtype: int64\n",
      "women_parliament_seats_rate\n",
      "[0%-25%)     249\n",
      "[25%-50%)     82\n",
      "unknown       30\n",
      "[50%-75%)      1\n",
      "Name: count, dtype: int64\n"
     ]
    }
   ],
   "source": [
    "print(df['internet_users'].value_counts())\n",
    "print(df['women_parliament_seats_rate'].value_counts())"
   ]
  },
  {
   "cell_type": "code",
   "execution_count": 61,
   "id": "55f0a380",
   "metadata": {},
   "outputs": [
    {
     "data": {
      "text/plain": [
       "women_parliament_seats_rate\n",
       "[0%-25%)     249\n",
       "[25%-50%)     82\n",
       "unknown       30\n",
       "Name: count, dtype: int64"
      ]
     },
     "execution_count": 61,
     "metadata": {},
     "output_type": "execute_result"
    }
   ],
   "source": [
    "# Extraemos cosaso unicos\n",
    "df = df [df['women_parliament_seats_rate'] != '[50%-75%)'].reset_index(drop=True)\n",
    "df['women_parliament_seats_rate'].value_counts()"
   ]
  },
  {
   "cell_type": "code",
   "execution_count": 62,
   "id": "3d6af921",
   "metadata": {},
   "outputs": [],
   "source": [
    "df = df.drop(['internet_users'], axis=1)\n"
   ]
  },
  {
   "cell_type": "code",
   "execution_count": 63,
   "id": "6e1d29dd",
   "metadata": {},
   "outputs": [
    {
     "name": "stderr",
     "output_type": "stream",
     "text": [
      "C:\\Users\\Acer\\AppData\\Local\\Temp\\ipykernel_23004\\2711290879.py:6: DeprecationWarning: DataFrameGroupBy.apply operated on the grouping columns. This behavior is deprecated, and in a future version of pandas the grouping columns will be excluded from the operation. Either pass `include_groups=False` to exclude the groupings or explicitly select the grouping columns after groupby to silence this warning.\n",
      "  df.groupby(col)\n"
     ]
    }
   ],
   "source": [
    "#  Balance para la columna 'national_income'\n",
    "col = 'national_income'\n",
    "max_size = df[col].value_counts().max()\n",
    "\n",
    "df_over = (\n",
    "    df.groupby(col)\n",
    "    .apply(lambda x:x.sample(n=max_size, replace= True, random_state=52))\n",
    "    .reset_index(drop=True)\n",
    ")\n"
   ]
  },
  {
   "cell_type": "code",
   "execution_count": 64,
   "id": "57f0acb7",
   "metadata": {},
   "outputs": [
    {
     "data": {
      "text/plain": [
       "national_income\n",
       "high           81\n",
       "low            81\n",
       "medium high    81\n",
       "medium low     81\n",
       "unknown        81\n",
       "very high      81\n",
       "very low       81\n",
       "Name: count, dtype: int64"
      ]
     },
     "execution_count": 64,
     "metadata": {},
     "output_type": "execute_result"
    }
   ],
   "source": [
    "df_over['national_income'].value_counts()"
   ]
  },
  {
   "cell_type": "markdown",
   "id": "1bfad3e1",
   "metadata": {},
   "source": [
    "# 5 Encoding"
   ]
  },
  {
   "cell_type": "code",
   "execution_count": 65,
   "id": "f7290ccd",
   "metadata": {},
   "outputs": [],
   "source": [
    "no_num = ['national_income', 'mobile_subscriptions', 'improved_sanitation', 'women_parliament_seats_rate']\n",
    "# Cargo codificador\n",
    "encoder = OrdinalEncoder()\n",
    "\n",
    "# Codificar las columnas nonnumericas\n",
    "df_over[no_num] = encoder.fit_transform(df_over[no_num])"
   ]
  },
  {
   "cell_type": "code",
   "execution_count": 66,
   "id": "1f2a8f7d",
   "metadata": {},
   "outputs": [
    {
     "name": "stdout",
     "output_type": "stream",
     "text": [
      "<class 'pandas.core.frame.DataFrame'>\n",
      "RangeIndex: 567 entries, 0 to 566\n",
      "Data columns (total 8 columns):\n",
      " #   Column                         Non-Null Count  Dtype  \n",
      "---  ------                         --------------  -----  \n",
      " 0   urban_pop_major_cities         567 non-null    float64\n",
      " 1   urban_pop_minor_cities         567 non-null    float64\n",
      " 2   national_income                567 non-null    float64\n",
      " 3   mobile_subscriptions           567 non-null    float64\n",
      " 4   secure_internet_servers_total  567 non-null    float64\n",
      " 5   improved_sanitation            567 non-null    float64\n",
      " 6   women_parliament_seats_rate    567 non-null    float64\n",
      " 7   life_expectancy                567 non-null    float64\n",
      "dtypes: float64(8)\n",
      "memory usage: 35.6 KB\n"
     ]
    }
   ],
   "source": [
    "# verificamos\n",
    "df_over.info()"
   ]
  },
  {
   "cell_type": "code",
   "execution_count": 67,
   "id": "bd9f5b8c",
   "metadata": {},
   "outputs": [],
   "source": [
    "Y= df_over['life_expectancy']\n",
    "X = df_over.drop('life_expectancy', axis = 1)"
   ]
  },
  {
   "cell_type": "markdown",
   "id": "1488733b",
   "metadata": {},
   "source": [
    "## División de los datos de train y test"
   ]
  },
  {
   "cell_type": "code",
   "execution_count": 68,
   "id": "d9557767",
   "metadata": {},
   "outputs": [
    {
     "name": "stdout",
     "output_type": "stream",
     "text": [
      "Mejores parametros:{'max_depth': 10, 'max_leaf_nodes': 50, 'min_samples_split': 2, 'n_estimators': 100}\n",
      "MAE promedio 1.61\n",
      "MAE en test:1.51\n"
     ]
    }
   ],
   "source": [
    "X_train, X_test, Y_train, Y_test = train_test_split(X,Y, test_size=0.2, random_state=42)\n",
    "\n",
    "random_forest = RandomForestRegressor(random_state=53)\n",
    "\n",
    "# Hiperparametros para explorar\n",
    "param_grid = {\n",
    "    'n_estimators':[10,50,100],\n",
    "    'max_depth': [5,10,20],\n",
    "    'min_samples_split': [2,5,10],\n",
    "    'max_leaf_nodes': [5,10,50]\n",
    "}\n",
    "\n",
    "# Busqueda grid\n",
    "grid = GridSearchCV(random_forest, param_grid, cv=5, scoring='neg_mean_absolute_error', n_jobs=1)\n",
    "grid.fit(X_train, Y_train)\n",
    "\n",
    "mejor_modelo = grid.best_estimator_\n",
    "\n",
    "# predicciones\n",
    "Y_pred = mejor_modelo.predict(X_test)\n",
    "test_mae = mean_absolute_error(Y_test, Y_pred)\n",
    "\n",
    "# MAE en el data set\n",
    "print(f\"Mejores parametros:{grid.best_params_}\")\n",
    "print(f\"MAE promedio {-grid.best_score_:.2f}\")\n",
    "print(f\"MAE en test:{test_mae:.2f}\")\n",
    "\n"
   ]
  },
  {
   "cell_type": "code",
   "execution_count": 69,
   "id": "adc7a175",
   "metadata": {},
   "outputs": [
    {
     "data": {
      "text/html": [
       "<style>#sk-container-id-2 {\n",
       "  /* Definition of color scheme common for light and dark mode */\n",
       "  --sklearn-color-text: black;\n",
       "  --sklearn-color-line: gray;\n",
       "  /* Definition of color scheme for unfitted estimators */\n",
       "  --sklearn-color-unfitted-level-0: #fff5e6;\n",
       "  --sklearn-color-unfitted-level-1: #f6e4d2;\n",
       "  --sklearn-color-unfitted-level-2: #ffe0b3;\n",
       "  --sklearn-color-unfitted-level-3: chocolate;\n",
       "  /* Definition of color scheme for fitted estimators */\n",
       "  --sklearn-color-fitted-level-0: #f0f8ff;\n",
       "  --sklearn-color-fitted-level-1: #d4ebff;\n",
       "  --sklearn-color-fitted-level-2: #b3dbfd;\n",
       "  --sklearn-color-fitted-level-3: cornflowerblue;\n",
       "\n",
       "  /* Specific color for light theme */\n",
       "  --sklearn-color-text-on-default-background: var(--sg-text-color, var(--theme-code-foreground, var(--jp-content-font-color1, black)));\n",
       "  --sklearn-color-background: var(--sg-background-color, var(--theme-background, var(--jp-layout-color0, white)));\n",
       "  --sklearn-color-border-box: var(--sg-text-color, var(--theme-code-foreground, var(--jp-content-font-color1, black)));\n",
       "  --sklearn-color-icon: #696969;\n",
       "\n",
       "  @media (prefers-color-scheme: dark) {\n",
       "    /* Redefinition of color scheme for dark theme */\n",
       "    --sklearn-color-text-on-default-background: var(--sg-text-color, var(--theme-code-foreground, var(--jp-content-font-color1, white)));\n",
       "    --sklearn-color-background: var(--sg-background-color, var(--theme-background, var(--jp-layout-color0, #111)));\n",
       "    --sklearn-color-border-box: var(--sg-text-color, var(--theme-code-foreground, var(--jp-content-font-color1, white)));\n",
       "    --sklearn-color-icon: #878787;\n",
       "  }\n",
       "}\n",
       "\n",
       "#sk-container-id-2 {\n",
       "  color: var(--sklearn-color-text);\n",
       "}\n",
       "\n",
       "#sk-container-id-2 pre {\n",
       "  padding: 0;\n",
       "}\n",
       "\n",
       "#sk-container-id-2 input.sk-hidden--visually {\n",
       "  border: 0;\n",
       "  clip: rect(1px 1px 1px 1px);\n",
       "  clip: rect(1px, 1px, 1px, 1px);\n",
       "  height: 1px;\n",
       "  margin: -1px;\n",
       "  overflow: hidden;\n",
       "  padding: 0;\n",
       "  position: absolute;\n",
       "  width: 1px;\n",
       "}\n",
       "\n",
       "#sk-container-id-2 div.sk-dashed-wrapped {\n",
       "  border: 1px dashed var(--sklearn-color-line);\n",
       "  margin: 0 0.4em 0.5em 0.4em;\n",
       "  box-sizing: border-box;\n",
       "  padding-bottom: 0.4em;\n",
       "  background-color: var(--sklearn-color-background);\n",
       "}\n",
       "\n",
       "#sk-container-id-2 div.sk-container {\n",
       "  /* jupyter's `normalize.less` sets `[hidden] { display: none; }`\n",
       "     but bootstrap.min.css set `[hidden] { display: none !important; }`\n",
       "     so we also need the `!important` here to be able to override the\n",
       "     default hidden behavior on the sphinx rendered scikit-learn.org.\n",
       "     See: https://github.com/scikit-learn/scikit-learn/issues/21755 */\n",
       "  display: inline-block !important;\n",
       "  position: relative;\n",
       "}\n",
       "\n",
       "#sk-container-id-2 div.sk-text-repr-fallback {\n",
       "  display: none;\n",
       "}\n",
       "\n",
       "div.sk-parallel-item,\n",
       "div.sk-serial,\n",
       "div.sk-item {\n",
       "  /* draw centered vertical line to link estimators */\n",
       "  background-image: linear-gradient(var(--sklearn-color-text-on-default-background), var(--sklearn-color-text-on-default-background));\n",
       "  background-size: 2px 100%;\n",
       "  background-repeat: no-repeat;\n",
       "  background-position: center center;\n",
       "}\n",
       "\n",
       "/* Parallel-specific style estimator block */\n",
       "\n",
       "#sk-container-id-2 div.sk-parallel-item::after {\n",
       "  content: \"\";\n",
       "  width: 100%;\n",
       "  border-bottom: 2px solid var(--sklearn-color-text-on-default-background);\n",
       "  flex-grow: 1;\n",
       "}\n",
       "\n",
       "#sk-container-id-2 div.sk-parallel {\n",
       "  display: flex;\n",
       "  align-items: stretch;\n",
       "  justify-content: center;\n",
       "  background-color: var(--sklearn-color-background);\n",
       "  position: relative;\n",
       "}\n",
       "\n",
       "#sk-container-id-2 div.sk-parallel-item {\n",
       "  display: flex;\n",
       "  flex-direction: column;\n",
       "}\n",
       "\n",
       "#sk-container-id-2 div.sk-parallel-item:first-child::after {\n",
       "  align-self: flex-end;\n",
       "  width: 50%;\n",
       "}\n",
       "\n",
       "#sk-container-id-2 div.sk-parallel-item:last-child::after {\n",
       "  align-self: flex-start;\n",
       "  width: 50%;\n",
       "}\n",
       "\n",
       "#sk-container-id-2 div.sk-parallel-item:only-child::after {\n",
       "  width: 0;\n",
       "}\n",
       "\n",
       "/* Serial-specific style estimator block */\n",
       "\n",
       "#sk-container-id-2 div.sk-serial {\n",
       "  display: flex;\n",
       "  flex-direction: column;\n",
       "  align-items: center;\n",
       "  background-color: var(--sklearn-color-background);\n",
       "  padding-right: 1em;\n",
       "  padding-left: 1em;\n",
       "}\n",
       "\n",
       "\n",
       "/* Toggleable style: style used for estimator/Pipeline/ColumnTransformer box that is\n",
       "clickable and can be expanded/collapsed.\n",
       "- Pipeline and ColumnTransformer use this feature and define the default style\n",
       "- Estimators will overwrite some part of the style using the `sk-estimator` class\n",
       "*/\n",
       "\n",
       "/* Pipeline and ColumnTransformer style (default) */\n",
       "\n",
       "#sk-container-id-2 div.sk-toggleable {\n",
       "  /* Default theme specific background. It is overwritten whether we have a\n",
       "  specific estimator or a Pipeline/ColumnTransformer */\n",
       "  background-color: var(--sklearn-color-background);\n",
       "}\n",
       "\n",
       "/* Toggleable label */\n",
       "#sk-container-id-2 label.sk-toggleable__label {\n",
       "  cursor: pointer;\n",
       "  display: block;\n",
       "  width: 100%;\n",
       "  margin-bottom: 0;\n",
       "  padding: 0.5em;\n",
       "  box-sizing: border-box;\n",
       "  text-align: center;\n",
       "}\n",
       "\n",
       "#sk-container-id-2 label.sk-toggleable__label-arrow:before {\n",
       "  /* Arrow on the left of the label */\n",
       "  content: \"▸\";\n",
       "  float: left;\n",
       "  margin-right: 0.25em;\n",
       "  color: var(--sklearn-color-icon);\n",
       "}\n",
       "\n",
       "#sk-container-id-2 label.sk-toggleable__label-arrow:hover:before {\n",
       "  color: var(--sklearn-color-text);\n",
       "}\n",
       "\n",
       "/* Toggleable content - dropdown */\n",
       "\n",
       "#sk-container-id-2 div.sk-toggleable__content {\n",
       "  max-height: 0;\n",
       "  max-width: 0;\n",
       "  overflow: hidden;\n",
       "  text-align: left;\n",
       "  /* unfitted */\n",
       "  background-color: var(--sklearn-color-unfitted-level-0);\n",
       "}\n",
       "\n",
       "#sk-container-id-2 div.sk-toggleable__content.fitted {\n",
       "  /* fitted */\n",
       "  background-color: var(--sklearn-color-fitted-level-0);\n",
       "}\n",
       "\n",
       "#sk-container-id-2 div.sk-toggleable__content pre {\n",
       "  margin: 0.2em;\n",
       "  border-radius: 0.25em;\n",
       "  color: var(--sklearn-color-text);\n",
       "  /* unfitted */\n",
       "  background-color: var(--sklearn-color-unfitted-level-0);\n",
       "}\n",
       "\n",
       "#sk-container-id-2 div.sk-toggleable__content.fitted pre {\n",
       "  /* unfitted */\n",
       "  background-color: var(--sklearn-color-fitted-level-0);\n",
       "}\n",
       "\n",
       "#sk-container-id-2 input.sk-toggleable__control:checked~div.sk-toggleable__content {\n",
       "  /* Expand drop-down */\n",
       "  max-height: 200px;\n",
       "  max-width: 100%;\n",
       "  overflow: auto;\n",
       "}\n",
       "\n",
       "#sk-container-id-2 input.sk-toggleable__control:checked~label.sk-toggleable__label-arrow:before {\n",
       "  content: \"▾\";\n",
       "}\n",
       "\n",
       "/* Pipeline/ColumnTransformer-specific style */\n",
       "\n",
       "#sk-container-id-2 div.sk-label input.sk-toggleable__control:checked~label.sk-toggleable__label {\n",
       "  color: var(--sklearn-color-text);\n",
       "  background-color: var(--sklearn-color-unfitted-level-2);\n",
       "}\n",
       "\n",
       "#sk-container-id-2 div.sk-label.fitted input.sk-toggleable__control:checked~label.sk-toggleable__label {\n",
       "  background-color: var(--sklearn-color-fitted-level-2);\n",
       "}\n",
       "\n",
       "/* Estimator-specific style */\n",
       "\n",
       "/* Colorize estimator box */\n",
       "#sk-container-id-2 div.sk-estimator input.sk-toggleable__control:checked~label.sk-toggleable__label {\n",
       "  /* unfitted */\n",
       "  background-color: var(--sklearn-color-unfitted-level-2);\n",
       "}\n",
       "\n",
       "#sk-container-id-2 div.sk-estimator.fitted input.sk-toggleable__control:checked~label.sk-toggleable__label {\n",
       "  /* fitted */\n",
       "  background-color: var(--sklearn-color-fitted-level-2);\n",
       "}\n",
       "\n",
       "#sk-container-id-2 div.sk-label label.sk-toggleable__label,\n",
       "#sk-container-id-2 div.sk-label label {\n",
       "  /* The background is the default theme color */\n",
       "  color: var(--sklearn-color-text-on-default-background);\n",
       "}\n",
       "\n",
       "/* On hover, darken the color of the background */\n",
       "#sk-container-id-2 div.sk-label:hover label.sk-toggleable__label {\n",
       "  color: var(--sklearn-color-text);\n",
       "  background-color: var(--sklearn-color-unfitted-level-2);\n",
       "}\n",
       "\n",
       "/* Label box, darken color on hover, fitted */\n",
       "#sk-container-id-2 div.sk-label.fitted:hover label.sk-toggleable__label.fitted {\n",
       "  color: var(--sklearn-color-text);\n",
       "  background-color: var(--sklearn-color-fitted-level-2);\n",
       "}\n",
       "\n",
       "/* Estimator label */\n",
       "\n",
       "#sk-container-id-2 div.sk-label label {\n",
       "  font-family: monospace;\n",
       "  font-weight: bold;\n",
       "  display: inline-block;\n",
       "  line-height: 1.2em;\n",
       "}\n",
       "\n",
       "#sk-container-id-2 div.sk-label-container {\n",
       "  text-align: center;\n",
       "}\n",
       "\n",
       "/* Estimator-specific */\n",
       "#sk-container-id-2 div.sk-estimator {\n",
       "  font-family: monospace;\n",
       "  border: 1px dotted var(--sklearn-color-border-box);\n",
       "  border-radius: 0.25em;\n",
       "  box-sizing: border-box;\n",
       "  margin-bottom: 0.5em;\n",
       "  /* unfitted */\n",
       "  background-color: var(--sklearn-color-unfitted-level-0);\n",
       "}\n",
       "\n",
       "#sk-container-id-2 div.sk-estimator.fitted {\n",
       "  /* fitted */\n",
       "  background-color: var(--sklearn-color-fitted-level-0);\n",
       "}\n",
       "\n",
       "/* on hover */\n",
       "#sk-container-id-2 div.sk-estimator:hover {\n",
       "  /* unfitted */\n",
       "  background-color: var(--sklearn-color-unfitted-level-2);\n",
       "}\n",
       "\n",
       "#sk-container-id-2 div.sk-estimator.fitted:hover {\n",
       "  /* fitted */\n",
       "  background-color: var(--sklearn-color-fitted-level-2);\n",
       "}\n",
       "\n",
       "/* Specification for estimator info (e.g. \"i\" and \"?\") */\n",
       "\n",
       "/* Common style for \"i\" and \"?\" */\n",
       "\n",
       ".sk-estimator-doc-link,\n",
       "a:link.sk-estimator-doc-link,\n",
       "a:visited.sk-estimator-doc-link {\n",
       "  float: right;\n",
       "  font-size: smaller;\n",
       "  line-height: 1em;\n",
       "  font-family: monospace;\n",
       "  background-color: var(--sklearn-color-background);\n",
       "  border-radius: 1em;\n",
       "  height: 1em;\n",
       "  width: 1em;\n",
       "  text-decoration: none !important;\n",
       "  margin-left: 1ex;\n",
       "  /* unfitted */\n",
       "  border: var(--sklearn-color-unfitted-level-1) 1pt solid;\n",
       "  color: var(--sklearn-color-unfitted-level-1);\n",
       "}\n",
       "\n",
       ".sk-estimator-doc-link.fitted,\n",
       "a:link.sk-estimator-doc-link.fitted,\n",
       "a:visited.sk-estimator-doc-link.fitted {\n",
       "  /* fitted */\n",
       "  border: var(--sklearn-color-fitted-level-1) 1pt solid;\n",
       "  color: var(--sklearn-color-fitted-level-1);\n",
       "}\n",
       "\n",
       "/* On hover */\n",
       "div.sk-estimator:hover .sk-estimator-doc-link:hover,\n",
       ".sk-estimator-doc-link:hover,\n",
       "div.sk-label-container:hover .sk-estimator-doc-link:hover,\n",
       ".sk-estimator-doc-link:hover {\n",
       "  /* unfitted */\n",
       "  background-color: var(--sklearn-color-unfitted-level-3);\n",
       "  color: var(--sklearn-color-background);\n",
       "  text-decoration: none;\n",
       "}\n",
       "\n",
       "div.sk-estimator.fitted:hover .sk-estimator-doc-link.fitted:hover,\n",
       ".sk-estimator-doc-link.fitted:hover,\n",
       "div.sk-label-container:hover .sk-estimator-doc-link.fitted:hover,\n",
       ".sk-estimator-doc-link.fitted:hover {\n",
       "  /* fitted */\n",
       "  background-color: var(--sklearn-color-fitted-level-3);\n",
       "  color: var(--sklearn-color-background);\n",
       "  text-decoration: none;\n",
       "}\n",
       "\n",
       "/* Span, style for the box shown on hovering the info icon */\n",
       ".sk-estimator-doc-link span {\n",
       "  display: none;\n",
       "  z-index: 9999;\n",
       "  position: relative;\n",
       "  font-weight: normal;\n",
       "  right: .2ex;\n",
       "  padding: .5ex;\n",
       "  margin: .5ex;\n",
       "  width: min-content;\n",
       "  min-width: 20ex;\n",
       "  max-width: 50ex;\n",
       "  color: var(--sklearn-color-text);\n",
       "  box-shadow: 2pt 2pt 4pt #999;\n",
       "  /* unfitted */\n",
       "  background: var(--sklearn-color-unfitted-level-0);\n",
       "  border: .5pt solid var(--sklearn-color-unfitted-level-3);\n",
       "}\n",
       "\n",
       ".sk-estimator-doc-link.fitted span {\n",
       "  /* fitted */\n",
       "  background: var(--sklearn-color-fitted-level-0);\n",
       "  border: var(--sklearn-color-fitted-level-3);\n",
       "}\n",
       "\n",
       ".sk-estimator-doc-link:hover span {\n",
       "  display: block;\n",
       "}\n",
       "\n",
       "/* \"?\"-specific style due to the `<a>` HTML tag */\n",
       "\n",
       "#sk-container-id-2 a.estimator_doc_link {\n",
       "  float: right;\n",
       "  font-size: 1rem;\n",
       "  line-height: 1em;\n",
       "  font-family: monospace;\n",
       "  background-color: var(--sklearn-color-background);\n",
       "  border-radius: 1rem;\n",
       "  height: 1rem;\n",
       "  width: 1rem;\n",
       "  text-decoration: none;\n",
       "  /* unfitted */\n",
       "  color: var(--sklearn-color-unfitted-level-1);\n",
       "  border: var(--sklearn-color-unfitted-level-1) 1pt solid;\n",
       "}\n",
       "\n",
       "#sk-container-id-2 a.estimator_doc_link.fitted {\n",
       "  /* fitted */\n",
       "  border: var(--sklearn-color-fitted-level-1) 1pt solid;\n",
       "  color: var(--sklearn-color-fitted-level-1);\n",
       "}\n",
       "\n",
       "/* On hover */\n",
       "#sk-container-id-2 a.estimator_doc_link:hover {\n",
       "  /* unfitted */\n",
       "  background-color: var(--sklearn-color-unfitted-level-3);\n",
       "  color: var(--sklearn-color-background);\n",
       "  text-decoration: none;\n",
       "}\n",
       "\n",
       "#sk-container-id-2 a.estimator_doc_link.fitted:hover {\n",
       "  /* fitted */\n",
       "  background-color: var(--sklearn-color-fitted-level-3);\n",
       "}\n",
       "</style><div id=\"sk-container-id-2\" class=\"sk-top-container\"><div class=\"sk-text-repr-fallback\"><pre>RandomForestRegressor(max_depth=5, max_leaf_nodes=10, random_state=53)</pre><b>In a Jupyter environment, please rerun this cell to show the HTML representation or trust the notebook. <br />On GitHub, the HTML representation is unable to render, please try loading this page with nbviewer.org.</b></div><div class=\"sk-container\" hidden><div class=\"sk-item\"><div class=\"sk-estimator fitted sk-toggleable\"><input class=\"sk-toggleable__control sk-hidden--visually\" id=\"sk-estimator-id-2\" type=\"checkbox\" checked><label for=\"sk-estimator-id-2\" class=\"sk-toggleable__label fitted sk-toggleable__label-arrow fitted\">&nbsp;&nbsp;RandomForestRegressor<a class=\"sk-estimator-doc-link fitted\" rel=\"noreferrer\" target=\"_blank\" href=\"https://scikit-learn.org/1.5/modules/generated/sklearn.ensemble.RandomForestRegressor.html\">?<span>Documentation for RandomForestRegressor</span></a><span class=\"sk-estimator-doc-link fitted\">i<span>Fitted</span></span></label><div class=\"sk-toggleable__content fitted\"><pre>RandomForestRegressor(max_depth=5, max_leaf_nodes=10, random_state=53)</pre></div> </div></div></div></div>"
      ],
      "text/plain": [
       "RandomForestRegressor(max_depth=5, max_leaf_nodes=10, random_state=53)"
      ]
     },
     "execution_count": 69,
     "metadata": {},
     "output_type": "execute_result"
    }
   ],
   "source": [
    "modelo_select = RandomForestRegressor(max_depth=5, max_leaf_nodes=10, min_samples_split=2, n_estimators=100, random_state=53)\n",
    "modelo_select.fit(X_train, Y_train)"
   ]
  },
  {
   "cell_type": "markdown",
   "id": "2417d3dd",
   "metadata": {},
   "source": [
    "## Predicciones"
   ]
  },
  {
   "cell_type": "code",
   "execution_count": 70,
   "id": "6be87ed2",
   "metadata": {},
   "outputs": [
    {
     "name": "stdout",
     "output_type": "stream",
     "text": [
      "(100, 7)\n"
     ]
    }
   ],
   "source": [
    "test = pd.read_csv('test.csv', index_col=0)\n",
    "# dejamos las columnas empleadas efectvamente\n",
    "cols = list(df_over.drop('life_expectancy', axis=1).columns)\n",
    "test=test[cols]\n",
    "print(test.shape)"
   ]
  },
  {
   "cell_type": "code",
   "execution_count": 71,
   "id": "58ca9bf5",
   "metadata": {},
   "outputs": [
    {
     "data": {
      "text/plain": [
       "urban_pop_major_cities           2\n",
       "urban_pop_minor_cities           2\n",
       "national_income                  0\n",
       "mobile_subscriptions             0\n",
       "secure_internet_servers_total    9\n",
       "improved_sanitation              0\n",
       "women_parliament_seats_rate      0\n",
       "dtype: int64"
      ]
     },
     "execution_count": 71,
     "metadata": {},
     "output_type": "execute_result"
    }
   ],
   "source": [
    "test.isnull().sum()"
   ]
  },
  {
   "cell_type": "markdown",
   "id": "661050dd",
   "metadata": {},
   "source": [
    "### Imputación de variables numericas"
   ]
  },
  {
   "cell_type": "code",
   "execution_count": 72,
   "id": "3592e6d7",
   "metadata": {},
   "outputs": [
    {
     "data": {
      "text/plain": [
       "urban_pop_major_cities           0\n",
       "urban_pop_minor_cities           0\n",
       "national_income                  0\n",
       "mobile_subscriptions             0\n",
       "secure_internet_servers_total    0\n",
       "improved_sanitation              0\n",
       "women_parliament_seats_rate      0\n",
       "dtype: int64"
      ]
     },
     "execution_count": 72,
     "metadata": {},
     "output_type": "execute_result"
    }
   ],
   "source": [
    "test = test.fillna(test.mean(numeric_only=True))\n",
    "test.isnull().sum()"
   ]
  },
  {
   "cell_type": "code",
   "execution_count": 73,
   "id": "e2d9718e",
   "metadata": {},
   "outputs": [],
   "source": [
    "# Codificación de variables cuali\n",
    "no_num=['national_income', 'mobile_subscriptions', 'improved_sanitation', 'women_parliament_seats_rate']\n",
    "\n",
    "encoder = OrdinalEncoder()\n",
    "test[no_num]=  encoder.fit_transform(test[no_num])\n"
   ]
  },
  {
   "cell_type": "code",
   "execution_count": 74,
   "id": "f46bcf25",
   "metadata": {},
   "outputs": [
    {
     "name": "stdout",
     "output_type": "stream",
     "text": [
      "<class 'pandas.core.frame.DataFrame'>\n",
      "Index: 100 entries, 9 to 455\n",
      "Data columns (total 7 columns):\n",
      " #   Column                         Non-Null Count  Dtype  \n",
      "---  ------                         --------------  -----  \n",
      " 0   urban_pop_major_cities         100 non-null    float64\n",
      " 1   urban_pop_minor_cities         100 non-null    float64\n",
      " 2   national_income                100 non-null    float64\n",
      " 3   mobile_subscriptions           100 non-null    float64\n",
      " 4   secure_internet_servers_total  100 non-null    float64\n",
      " 5   improved_sanitation            100 non-null    float64\n",
      " 6   women_parliament_seats_rate    100 non-null    float64\n",
      "dtypes: float64(7)\n",
      "memory usage: 6.2 KB\n"
     ]
    }
   ],
   "source": [
    "test.info()"
   ]
  },
  {
   "cell_type": "code",
   "execution_count": 78,
   "id": "c56f4c6a",
   "metadata": {},
   "outputs": [
    {
     "name": "stdout",
     "output_type": "stream",
     "text": [
      "[68.53470789 71.18199044 76.33121722 67.94904449 75.14797974 62.26819108\n",
      " 74.41221762 71.7476474  73.4295987  73.39614182 73.89448106 80.58565528\n",
      " 61.4054533  59.98467087 80.58565528 76.68562509 77.03216466 72.61681813\n",
      " 76.76291826 62.61557737 62.61557737 71.82595618 73.5798421  77.26904501\n",
      " 74.17060827 72.74602045 59.63982572 80.58565528 80.58565528 79.45989401\n",
      " 73.62999877 72.50023889 62.62136865 67.73859528 80.58565528 80.44368651\n",
      " 75.3958852  80.58565528 74.65662411 80.58565528 74.27022584 66.35242308\n",
      " 68.89848502 58.1301728  59.63982572 77.14226081 62.60661984 64.42233095\n",
      " 59.61274598 75.80089575 74.32511656 73.96823749 72.89817558 80.58565528\n",
      " 59.52584634 75.98991146 78.96245978 62.47840314 71.14290614 66.53612662\n",
      " 71.38782174 68.30957823 59.46087364 68.23708484 70.95875314 56.09390765\n",
      " 71.95472923 70.28018016 73.88932336 72.76930168 62.61557737 68.07067634\n",
      " 62.52073886 73.71241105 58.9118718  62.47840314 80.58565528 72.7583001\n",
      " 77.03216466 72.65865926 77.54890255 72.84522696 74.52038922 72.21730987\n",
      " 75.51204533 66.77295374 67.9040455  75.76922644 80.50635488 71.80441691\n",
      " 80.31457279 72.7583001  73.28050046 66.0683349  73.16290024 59.04110717\n",
      " 75.63072319 71.56417778 62.59918883 72.45516712]\n"
     ]
    }
   ],
   "source": [
    "y_pred = modelo_select.predict(test)\n",
    "print(y_pred)"
   ]
  },
  {
   "cell_type": "code",
   "execution_count": 81,
   "id": "2d529b89",
   "metadata": {},
   "outputs": [
    {
     "data": {
      "image/png": "[encoded data removed]",
      "text/plain": [
       "<Figure size 700x400 with 1 Axes>"
      ]
     },
     "metadata": {},
     "output_type": "display_data"
    }
   ],
   "source": [
    "\n",
    "# Extract feature importance determined by RF model\n",
    "feature_imp = pd.Series(modelo_select.feature_importances_, index=X.columns)\n",
    "feature_imp.sort_values(ascending=True, inplace=True)\n",
    "\n",
    "# Creating a bar plot\n",
    "feature_imp.plot(kind='barh', width=0.8, figsize=(7,4));"
   ]
  },
  {
   "cell_type": "code",
   "execution_count": 82,
   "id": "c839ced4",
   "metadata": {},
   "outputs": [],
   "source": [
    "d = {'id': test.index, 'life_expectancy': y_pred}\n",
    "submission_df = pd.DataFrame(data=d)\n",
    "submission_df.to_csv('submission.csv', index=False)"
   ]
  }
 ],
 "metadata": {
  "kernelspec": {
   "display_name": "base",
   "language": "python",
   "name": "python3"
  },
  "language_info": {
   "codemirror_mode": {
    "name": "ipython",
    "version": 3
   },
   "file_extension": ".py",
   "mimetype": "text/x-python",
   "name": "python",
   "nbconvert_exporter": "python",
   "pygments_lexer": "ipython3",
   "version": "3.9.13"
  }
 },
 "nbformat": 4,
 "nbformat_minor": 5
}
