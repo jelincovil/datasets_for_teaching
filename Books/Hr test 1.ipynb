{
 "cells": [
  {
   "cell_type": "markdown",
   "id": "a08ddb87",
   "metadata": {},
   "source": [
    "# Data science hiring test of hackerrank 1"
   ]
  },
  {
   "cell_type": "markdown",
   "id": "3b0ec62f",
   "metadata": {},
   "source": [
    "## Librerias"
   ]
  },
  {
   "cell_type": "code",
   "execution_count": 53,
   "id": "76e9067a",
   "metadata": {},
   "outputs": [],
   "source": [
    "# Librerias\n",
    "%matplotlib inline\n",
    "import pandas as pd \n",
    "import numpy as np\n",
    "import seaborn as sns\n",
    "import matplotlib.pyplot as plt\n",
    "from pandas.plotting import scatter_matrix\n",
    "\n",
    "from sklearn.preprocessing import LabelEncoder, OneHotEncoder, OrdinalEncoder\n",
    "from sklearn.impute import SimpleImputer \n",
    "from sklearn.model_selection import train_test_split, cross_val_score\n",
    "from sklearn.ensemble import RandomForestRegressor\n",
    "from sklearn.metrics import mean_absolute_error, r2_score\n",
    "from sklearn.model_selection import cross_val_score, GridSearchCV"
   ]
  },
  {
   "cell_type": "markdown",
   "id": "cf55c37d",
   "metadata": {},
   "source": [
    "## Procesamiento de datos"
   ]
  },
  {
   "cell_type": "code",
   "execution_count": 54,
   "id": "f77404c5",
   "metadata": {},
   "outputs": [],
   "source": [
    "# Cargamos el data frame\n",
    "df = pd.read_csv(\"train.csv\", index_col=0)"
   ]
  },
  {
   "cell_type": "code",
   "execution_count": 55,
   "id": "3fb2628d",
   "metadata": {},
   "outputs": [
    {
     "name": "stdout",
     "output_type": "stream",
     "text": [
      "(362, 16)\n",
      "<class 'pandas.core.frame.DataFrame'>\n",
      "Index: 362 entries, 0 to 461\n",
      "Data columns (total 16 columns):\n",
      " #   Column                         Non-Null Count  Dtype  \n",
      "---  ------                         --------------  -----  \n",
      " 0   surface_area                   362 non-null    float64\n",
      " 1   agricultural_land              358 non-null    float64\n",
      " 2   forest_area                    357 non-null    float64\n",
      " 3   armed_forces_total             318 non-null    float64\n",
      " 4   urban_pop_major_cities         360 non-null    float64\n",
      " 5   urban_pop_minor_cities         360 non-null    float64\n",
      " 6   national_income                362 non-null    object \n",
      " 7   inflation_annual               146 non-null    float64\n",
      " 8   inflation_monthly              156 non-null    float64\n",
      " 9   inflation_weekly               20 non-null     float64\n",
      " 10  mobile_subscriptions           362 non-null    object \n",
      " 11  internet_users                 362 non-null    object \n",
      " 12  secure_internet_servers_total  352 non-null    float64\n",
      " 13  improved_sanitation            362 non-null    object \n",
      " 14  women_parliament_seats_rate    362 non-null    object \n",
      " 15  life_expectancy                362 non-null    float64\n",
      "dtypes: float64(11), object(5)\n",
      "memory usage: 48.1+ KB\n",
      "None\n"
     ]
    }
   ],
   "source": [
    "print(df.shape)\n",
    "print(df.info())"
   ]
  },
  {
   "cell_type": "code",
   "execution_count": 56,
   "id": "a0fb6bfb",
   "metadata": {},
   "outputs": [
    {
     "data": {
      "text/plain": [
       "surface_area                       0\n",
       "agricultural_land                  4\n",
       "forest_area                        5\n",
       "armed_forces_total                44\n",
       "urban_pop_major_cities             2\n",
       "urban_pop_minor_cities             2\n",
       "national_income                    0\n",
       "inflation_annual                 216\n",
       "inflation_monthly                206\n",
       "inflation_weekly                 342\n",
       "mobile_subscriptions               0\n",
       "internet_users                     0\n",
       "secure_internet_servers_total     10\n",
       "improved_sanitation                0\n",
       "women_parliament_seats_rate        0\n",
       "life_expectancy                    0\n",
       "dtype: int64"
      ]
     },
     "execution_count": 56,
     "metadata": {},
     "output_type": "execute_result"
    }
   ],
   "source": [
    "# Contar valor nulos y Nas\n",
    "df.isnull().sum()"
   ]
  },
  {
   "cell_type": "code",
   "execution_count": 57,
   "id": "833b52d6",
   "metadata": {},
   "outputs": [
    {
     "data": {
      "text/plain": [
       "surface_area                      0\n",
       "agricultural_land                 4\n",
       "forest_area                       5\n",
       "armed_forces_total               44\n",
       "urban_pop_major_cities            2\n",
       "urban_pop_minor_cities            2\n",
       "national_income                   0\n",
       "mobile_subscriptions              0\n",
       "internet_users                    0\n",
       "secure_internet_servers_total    10\n",
       "improved_sanitation               0\n",
       "women_parliament_seats_rate       0\n",
       "life_expectancy                   0\n",
       "dtype: int64"
      ]
     },
     "execution_count": 57,
     "metadata": {},
     "output_type": "execute_result"
    }
   ],
   "source": [
    "# Extraigo los casos en dondehay muchos datos faltantes\n",
    "df = df.drop(['inflation_annual', 'inflation_monthly', 'inflation_weekly'], axis=1)\n",
    "df.isnull().sum()"
   ]
  },
  {
   "cell_type": "code",
   "execution_count": 58,
   "id": "ef5583a6",
   "metadata": {},
   "outputs": [
    {
     "data": {
      "text/plain": [
       "surface_area                     0\n",
       "agricultural_land                0\n",
       "forest_area                      0\n",
       "armed_forces_total               0\n",
       "urban_pop_major_cities           0\n",
       "urban_pop_minor_cities           0\n",
       "national_income                  0\n",
       "mobile_subscriptions             0\n",
       "internet_users                   0\n",
       "secure_internet_servers_total    0\n",
       "improved_sanitation              0\n",
       "women_parliament_seats_rate      0\n",
       "life_expectancy                  0\n",
       "dtype: int64"
      ]
     },
     "execution_count": 58,
     "metadata": {},
     "output_type": "execute_result"
    }
   ],
   "source": [
    "# Imputacion de datos faltantes por la media de cada columna\n",
    "df = df.fillna(df.mean(numeric_only=True))\n",
    "df.isnull().sum()\n"
   ]
  },
  {
   "cell_type": "code",
   "execution_count": 59,
   "id": "8b396c51",
   "metadata": {},
   "outputs": [
    {
     "data": {
      "text/html": [
       "<div>\n",
       "<style scoped>\n",
       "    .dataframe tbody tr th:only-of-type {\n",
       "        vertical-align: middle;\n",
       "    }\n",
       "\n",
       "    .dataframe tbody tr th {\n",
       "        vertical-align: top;\n",
       "    }\n",
       "\n",
       "    .dataframe thead th {\n",
       "        text-align: right;\n",
       "    }\n",
       "</style>\n",
       "<table border=\"1\" class=\"dataframe\">\n",
       "  <thead>\n",
       "    <tr style=\"text-align: right;\">\n",
       "      <th></th>\n",
       "      <th>surface_area</th>\n",
       "      <th>agricultural_land</th>\n",
       "      <th>forest_area</th>\n",
       "      <th>armed_forces_total</th>\n",
       "      <th>urban_pop_major_cities</th>\n",
       "      <th>urban_pop_minor_cities</th>\n",
       "      <th>national_income</th>\n",
       "      <th>mobile_subscriptions</th>\n",
       "      <th>internet_users</th>\n",
       "      <th>secure_internet_servers_total</th>\n",
       "      <th>improved_sanitation</th>\n",
       "      <th>women_parliament_seats_rate</th>\n",
       "      <th>life_expectancy</th>\n",
       "    </tr>\n",
       "  </thead>\n",
       "  <tbody>\n",
       "    <tr>\n",
       "      <th>0</th>\n",
       "      <td>120540.0</td>\n",
       "      <td>2.632839e+06</td>\n",
       "      <td>5.417843e+06</td>\n",
       "      <td>1.379000e+06</td>\n",
       "      <td>55.747169</td>\n",
       "      <td>4.688831</td>\n",
       "      <td>unknown</td>\n",
       "      <td>less than 1 per person</td>\n",
       "      <td>0 per 1000 people</td>\n",
       "      <td>2.949654e+08</td>\n",
       "      <td>high access</td>\n",
       "      <td>[0%-25%)</td>\n",
       "      <td>69.494195</td>\n",
       "    </tr>\n",
       "    <tr>\n",
       "      <th>1</th>\n",
       "      <td>752610.0</td>\n",
       "      <td>2.403039e+07</td>\n",
       "      <td>4.957554e+07</td>\n",
       "      <td>1.650000e+04</td>\n",
       "      <td>16.890687</td>\n",
       "      <td>23.136313</td>\n",
       "      <td>very low</td>\n",
       "      <td>less than 1 per person</td>\n",
       "      <td>154 per 1000 people</td>\n",
       "      <td>2.623624e+06</td>\n",
       "      <td>low access</td>\n",
       "      <td>[0%-25%)</td>\n",
       "      <td>59.237366</td>\n",
       "    </tr>\n",
       "    <tr>\n",
       "      <th>2</th>\n",
       "      <td>1396.0</td>\n",
       "      <td>3.000000e+03</td>\n",
       "      <td>8.000000e+01</td>\n",
       "      <td>9.849864e+05</td>\n",
       "      <td>18.390090</td>\n",
       "      <td>23.139910</td>\n",
       "      <td>unknown</td>\n",
       "      <td>more than 1 per person</td>\n",
       "      <td>90 per 100 people</td>\n",
       "      <td>1.656589e+09</td>\n",
       "      <td>no info</td>\n",
       "      <td>unknown</td>\n",
       "      <td>81.300000</td>\n",
       "    </tr>\n",
       "    <tr>\n",
       "      <th>3</th>\n",
       "      <td>2758812.0</td>\n",
       "      <td>1.228845e+08</td>\n",
       "      <td>1.050943e+08</td>\n",
       "      <td>1.518650e+06</td>\n",
       "      <td>50.966885</td>\n",
       "      <td>24.522427</td>\n",
       "      <td>high</td>\n",
       "      <td>more than 1 per person</td>\n",
       "      <td>76 per 100 people</td>\n",
       "      <td>6.625072e+08</td>\n",
       "      <td>very high access</td>\n",
       "      <td>[25%-50%)</td>\n",
       "      <td>81.373197</td>\n",
       "    </tr>\n",
       "    <tr>\n",
       "      <th>4</th>\n",
       "      <td>340.0</td>\n",
       "      <td>1.100000e+04</td>\n",
       "      <td>1.699000e+04</td>\n",
       "      <td>9.849864e+05</td>\n",
       "      <td>5.311885</td>\n",
       "      <td>30.271115</td>\n",
       "      <td>unknown</td>\n",
       "      <td>more than 1 per person</td>\n",
       "      <td>350 per 1000 people</td>\n",
       "      <td>2.832808e+07</td>\n",
       "      <td>very high access</td>\n",
       "      <td>[25%-50%)</td>\n",
       "      <td>73.193561</td>\n",
       "    </tr>\n",
       "  </tbody>\n",
       "</table>\n",
       "</div>"
      ],
      "text/plain": [
       "   surface_area  agricultural_land   forest_area  armed_forces_total  \\\n",
       "0      120540.0       2.632839e+06  5.417843e+06        1.379000e+06   \n",
       "1      752610.0       2.403039e+07  4.957554e+07        1.650000e+04   \n",
       "2        1396.0       3.000000e+03  8.000000e+01        9.849864e+05   \n",
       "3     2758812.0       1.228845e+08  1.050943e+08        1.518650e+06   \n",
       "4         340.0       1.100000e+04  1.699000e+04        9.849864e+05   \n",
       "\n",
       "   urban_pop_major_cities  urban_pop_minor_cities national_income  \\\n",
       "0               55.747169                4.688831         unknown   \n",
       "1               16.890687               23.136313        very low   \n",
       "2               18.390090               23.139910         unknown   \n",
       "3               50.966885               24.522427            high   \n",
       "4                5.311885               30.271115         unknown   \n",
       "\n",
       "     mobile_subscriptions       internet_users  secure_internet_servers_total  \\\n",
       "0  less than 1 per person    0 per 1000 people                   2.949654e+08   \n",
       "1  less than 1 per person  154 per 1000 people                   2.623624e+06   \n",
       "2  more than 1 per person    90 per 100 people                   1.656589e+09   \n",
       "3  more than 1 per person    76 per 100 people                   6.625072e+08   \n",
       "4  more than 1 per person  350 per 1000 people                   2.832808e+07   \n",
       "\n",
       "  improved_sanitation women_parliament_seats_rate  life_expectancy  \n",
       "0         high access                    [0%-25%)        69.494195  \n",
       "1          low access                    [0%-25%)        59.237366  \n",
       "2             no info                     unknown        81.300000  \n",
       "3    very high access                   [25%-50%)        81.373197  \n",
       "4    very high access                   [25%-50%)        73.193561  "
      ]
     },
     "execution_count": 59,
     "metadata": {},
     "output_type": "execute_result"
    }
   ],
   "source": [
    "df.head()"
   ]
  },
  {
   "cell_type": "markdown",
   "id": "28188c11",
   "metadata": {},
   "source": [
    "## Modelo\n",
    "\n",
    "\n"
   ]
  },
  {
   "cell_type": "markdown",
   "id": "f8de4c6e",
   "metadata": {},
   "source": [
    "## Las variables inflacion anual, mensual y semanal tiene muchos na\n",
    " Agricutral land, forest_area,  armed_forces_total , urban major and minor and secure internet\n",
    "tiene pocas NA, los podemos reemplazar por la media "
   ]
  },
  {
   "cell_type": "code",
   "execution_count": 60,
   "id": "5cfec91a",
   "metadata": {},
   "outputs": [
    {
     "data": {
      "text/html": [
       "<div>\n",
       "<style scoped>\n",
       "    .dataframe tbody tr th:only-of-type {\n",
       "        vertical-align: middle;\n",
       "    }\n",
       "\n",
       "    .dataframe tbody tr th {\n",
       "        vertical-align: top;\n",
       "    }\n",
       "\n",
       "    .dataframe thead th {\n",
       "        text-align: right;\n",
       "    }\n",
       "</style>\n",
       "<table border=\"1\" class=\"dataframe\">\n",
       "  <thead>\n",
       "    <tr style=\"text-align: right;\">\n",
       "      <th></th>\n",
       "      <th>surface_area</th>\n",
       "      <th>agricultural_land</th>\n",
       "      <th>forest_area</th>\n",
       "      <th>armed_forces_total</th>\n",
       "      <th>urban_pop_major_cities</th>\n",
       "      <th>urban_pop_minor_cities</th>\n",
       "      <th>secure_internet_servers_total</th>\n",
       "      <th>life_expectancy</th>\n",
       "    </tr>\n",
       "  </thead>\n",
       "  <tbody>\n",
       "    <tr>\n",
       "      <th>count</th>\n",
       "      <td>3.620000e+02</td>\n",
       "      <td>3.620000e+02</td>\n",
       "      <td>3.620000e+02</td>\n",
       "      <td>3.620000e+02</td>\n",
       "      <td>362.000000</td>\n",
       "      <td>362.000000</td>\n",
       "      <td>3.620000e+02</td>\n",
       "      <td>362.000000</td>\n",
       "    </tr>\n",
       "    <tr>\n",
       "      <th>mean</th>\n",
       "      <td>4.021884e+06</td>\n",
       "      <td>1.594881e+08</td>\n",
       "      <td>1.204151e+08</td>\n",
       "      <td>9.849864e+05</td>\n",
       "      <td>27.659456</td>\n",
       "      <td>29.175242</td>\n",
       "      <td>2.949654e+08</td>\n",
       "      <td>71.059691</td>\n",
       "    </tr>\n",
       "    <tr>\n",
       "      <th>std</th>\n",
       "      <td>1.234491e+07</td>\n",
       "      <td>4.936564e+08</td>\n",
       "      <td>3.770239e+08</td>\n",
       "      <td>2.806256e+06</td>\n",
       "      <td>20.455984</td>\n",
       "      <td>21.147669</td>\n",
       "      <td>7.133108e+08</td>\n",
       "      <td>8.332818</td>\n",
       "    </tr>\n",
       "    <tr>\n",
       "      <th>min</th>\n",
       "      <td>3.030000e+01</td>\n",
       "      <td>3.000000e+02</td>\n",
       "      <td>0.000000e+00</td>\n",
       "      <td>5.000000e+01</td>\n",
       "      <td>0.091444</td>\n",
       "      <td>0.074575</td>\n",
       "      <td>4.002500e+04</td>\n",
       "      <td>48.850634</td>\n",
       "    </tr>\n",
       "    <tr>\n",
       "      <th>25%</th>\n",
       "      <td>2.783000e+04</td>\n",
       "      <td>1.101326e+06</td>\n",
       "      <td>5.083646e+05</td>\n",
       "      <td>1.585000e+04</td>\n",
       "      <td>10.637942</td>\n",
       "      <td>11.033595</td>\n",
       "      <td>3.522556e+06</td>\n",
       "      <td>65.469854</td>\n",
       "    </tr>\n",
       "    <tr>\n",
       "      <th>50%</th>\n",
       "      <td>2.037745e+05</td>\n",
       "      <td>5.506865e+06</td>\n",
       "      <td>4.012868e+06</td>\n",
       "      <td>8.659000e+04</td>\n",
       "      <td>24.545311</td>\n",
       "      <td>26.969871</td>\n",
       "      <td>2.911352e+07</td>\n",
       "      <td>73.238024</td>\n",
       "    </tr>\n",
       "    <tr>\n",
       "      <th>75%</th>\n",
       "      <td>1.081610e+06</td>\n",
       "      <td>4.286507e+07</td>\n",
       "      <td>2.347027e+07</td>\n",
       "      <td>9.849864e+05</td>\n",
       "      <td>38.463620</td>\n",
       "      <td>43.299790</td>\n",
       "      <td>2.508172e+08</td>\n",
       "      <td>77.125610</td>\n",
       "    </tr>\n",
       "    <tr>\n",
       "      <th>max</th>\n",
       "      <td>1.343253e+08</td>\n",
       "      <td>5.067600e+09</td>\n",
       "      <td>4.132117e+09</td>\n",
       "      <td>2.720662e+07</td>\n",
       "      <td>92.409069</td>\n",
       "      <td>89.142904</td>\n",
       "      <td>8.207343e+09</td>\n",
       "      <td>83.480488</td>\n",
       "    </tr>\n",
       "  </tbody>\n",
       "</table>\n",
       "</div>"
      ],
      "text/plain": [
       "       surface_area  agricultural_land   forest_area  armed_forces_total  \\\n",
       "count  3.620000e+02       3.620000e+02  3.620000e+02        3.620000e+02   \n",
       "mean   4.021884e+06       1.594881e+08  1.204151e+08        9.849864e+05   \n",
       "std    1.234491e+07       4.936564e+08  3.770239e+08        2.806256e+06   \n",
       "min    3.030000e+01       3.000000e+02  0.000000e+00        5.000000e+01   \n",
       "25%    2.783000e+04       1.101326e+06  5.083646e+05        1.585000e+04   \n",
       "50%    2.037745e+05       5.506865e+06  4.012868e+06        8.659000e+04   \n",
       "75%    1.081610e+06       4.286507e+07  2.347027e+07        9.849864e+05   \n",
       "max    1.343253e+08       5.067600e+09  4.132117e+09        2.720662e+07   \n",
       "\n",
       "       urban_pop_major_cities  urban_pop_minor_cities  \\\n",
       "count              362.000000              362.000000   \n",
       "mean                27.659456               29.175242   \n",
       "std                 20.455984               21.147669   \n",
       "min                  0.091444                0.074575   \n",
       "25%                 10.637942               11.033595   \n",
       "50%                 24.545311               26.969871   \n",
       "75%                 38.463620               43.299790   \n",
       "max                 92.409069               89.142904   \n",
       "\n",
       "       secure_internet_servers_total  life_expectancy  \n",
       "count                   3.620000e+02       362.000000  \n",
       "mean                    2.949654e+08        71.059691  \n",
       "std                     7.133108e+08         8.332818  \n",
       "min                     4.002500e+04        48.850634  \n",
       "25%                     3.522556e+06        65.469854  \n",
       "50%                     2.911352e+07        73.238024  \n",
       "75%                     2.508172e+08        77.125610  \n",
       "max                     8.207343e+09        83.480488  "
      ]
     },
     "execution_count": 60,
     "metadata": {},
     "output_type": "execute_result"
    }
   ],
   "source": [
    "df.describe()"
   ]
  },
  {
   "cell_type": "code",
   "execution_count": 36,
   "id": "c0094b8e",
   "metadata": {},
   "outputs": [
    {
     "data": {
      "text/html": [
       "<div>\n",
       "<style scoped>\n",
       "    .dataframe tbody tr th:only-of-type {\n",
       "        vertical-align: middle;\n",
       "    }\n",
       "\n",
       "    .dataframe tbody tr th {\n",
       "        vertical-align: top;\n",
       "    }\n",
       "\n",
       "    .dataframe thead tr th {\n",
       "        text-align: left;\n",
       "    }\n",
       "\n",
       "    .dataframe thead tr:last-of-type th {\n",
       "        text-align: right;\n",
       "    }\n",
       "</style>\n",
       "<table border=\"1\" class=\"dataframe\">\n",
       "  <thead>\n",
       "    <tr>\n",
       "      <th></th>\n",
       "      <th colspan=\"8\" halign=\"left\">life_expectancy</th>\n",
       "    </tr>\n",
       "    <tr>\n",
       "      <th></th>\n",
       "      <th>count</th>\n",
       "      <th>mean</th>\n",
       "      <th>std</th>\n",
       "      <th>min</th>\n",
       "      <th>25%</th>\n",
       "      <th>50%</th>\n",
       "      <th>75%</th>\n",
       "      <th>max</th>\n",
       "    </tr>\n",
       "    <tr>\n",
       "      <th>improved_sanitation</th>\n",
       "      <th></th>\n",
       "      <th></th>\n",
       "      <th></th>\n",
       "      <th></th>\n",
       "      <th></th>\n",
       "      <th></th>\n",
       "      <th></th>\n",
       "      <th></th>\n",
       "    </tr>\n",
       "  </thead>\n",
       "  <tbody>\n",
       "    <tr>\n",
       "      <th>high access</th>\n",
       "      <td>47.0</td>\n",
       "      <td>73.247753</td>\n",
       "      <td>3.075589</td>\n",
       "      <td>65.427780</td>\n",
       "      <td>71.942106</td>\n",
       "      <td>73.839585</td>\n",
       "      <td>74.464634</td>\n",
       "      <td>80.128878</td>\n",
       "    </tr>\n",
       "    <tr>\n",
       "      <th>low access</th>\n",
       "      <td>55.0</td>\n",
       "      <td>61.828680</td>\n",
       "      <td>4.835226</td>\n",
       "      <td>49.331463</td>\n",
       "      <td>58.317622</td>\n",
       "      <td>62.033390</td>\n",
       "      <td>66.069134</td>\n",
       "      <td>69.102927</td>\n",
       "    </tr>\n",
       "    <tr>\n",
       "      <th>medium access</th>\n",
       "      <td>54.0</td>\n",
       "      <td>67.649673</td>\n",
       "      <td>6.740083</td>\n",
       "      <td>48.850634</td>\n",
       "      <td>64.672562</td>\n",
       "      <td>69.060368</td>\n",
       "      <td>72.091201</td>\n",
       "      <td>77.419220</td>\n",
       "    </tr>\n",
       "    <tr>\n",
       "      <th>no info</th>\n",
       "      <td>18.0</td>\n",
       "      <td>75.682654</td>\n",
       "      <td>8.843511</td>\n",
       "      <td>54.690244</td>\n",
       "      <td>73.552823</td>\n",
       "      <td>79.670305</td>\n",
       "      <td>81.141463</td>\n",
       "      <td>83.480488</td>\n",
       "    </tr>\n",
       "    <tr>\n",
       "      <th>very high access</th>\n",
       "      <td>155.0</td>\n",
       "      <td>77.020089</td>\n",
       "      <td>3.858466</td>\n",
       "      <td>68.104000</td>\n",
       "      <td>74.170524</td>\n",
       "      <td>76.836195</td>\n",
       "      <td>80.642291</td>\n",
       "      <td>83.331951</td>\n",
       "    </tr>\n",
       "    <tr>\n",
       "      <th>very low access</th>\n",
       "      <td>33.0</td>\n",
       "      <td>58.390987</td>\n",
       "      <td>4.371564</td>\n",
       "      <td>49.105293</td>\n",
       "      <td>57.095000</td>\n",
       "      <td>59.121976</td>\n",
       "      <td>61.666390</td>\n",
       "      <td>64.291829</td>\n",
       "    </tr>\n",
       "  </tbody>\n",
       "</table>\n",
       "</div>"
      ],
      "text/plain": [
       "                    life_expectancy                                  \\\n",
       "                              count       mean       std        min   \n",
       "improved_sanitation                                                   \n",
       "high access                    47.0  73.247753  3.075589  65.427780   \n",
       "low access                     55.0  61.828680  4.835226  49.331463   \n",
       "medium access                  54.0  67.649673  6.740083  48.850634   \n",
       "no info                        18.0  75.682654  8.843511  54.690244   \n",
       "very high access              155.0  77.020089  3.858466  68.104000   \n",
       "very low access                33.0  58.390987  4.371564  49.105293   \n",
       "\n",
       "                                                                 \n",
       "                           25%        50%        75%        max  \n",
       "improved_sanitation                                              \n",
       "high access          71.942106  73.839585  74.464634  80.128878  \n",
       "low access           58.317622  62.033390  66.069134  69.102927  \n",
       "medium access        64.672562  69.060368  72.091201  77.419220  \n",
       "no info              73.552823  79.670305  81.141463  83.480488  \n",
       "very high access     74.170524  76.836195  80.642291  83.331951  \n",
       "very low access      57.095000  59.121976  61.666390  64.291829  "
      ]
     },
     "execution_count": 36,
     "metadata": {},
     "output_type": "execute_result"
    }
   ],
   "source": [
    "# Descripción general de los datos\n",
    "df.groupby('improved_sanitation')[['life_expectancy']].describe()"
   ]
  },
  {
   "cell_type": "markdown",
   "id": "045fd6b5",
   "metadata": {},
   "source": [
    "### Comentarios"
   ]
  },
  {
   "cell_type": "markdown",
   "id": "7f7c155d",
   "metadata": {},
   "source": [
    "### Verifcar correlación "
   ]
  },
  {
   "cell_type": "code",
   "execution_count": 37,
   "id": "ecf70c52",
   "metadata": {},
   "outputs": [
    {
     "name": "stdout",
     "output_type": "stream",
     "text": [
      "                               surface_area  agricultural_land  forest_area  \\\n",
      "surface_area                       1.000000           0.986713     0.982887   \n",
      "agricultural_land                  0.986713           1.000000     0.955918   \n",
      "forest_area                        0.982887           0.955918     1.000000   \n",
      "armed_forces_total                 0.928480           0.950516     0.885896   \n",
      "urban_pop_major_cities                  NaN                NaN          NaN   \n",
      "urban_pop_minor_cities                  NaN                NaN          NaN   \n",
      "secure_internet_servers_total           NaN                NaN          NaN   \n",
      "life_expectancy                         NaN                NaN          NaN   \n",
      "\n",
      "                               armed_forces_total  urban_pop_major_cities  \\\n",
      "surface_area                             0.928480                     NaN   \n",
      "agricultural_land                        0.950516                     NaN   \n",
      "forest_area                              0.885896                     NaN   \n",
      "armed_forces_total                       1.000000                     NaN   \n",
      "urban_pop_major_cities                        NaN                     1.0   \n",
      "urban_pop_minor_cities                        NaN                     NaN   \n",
      "secure_internet_servers_total                 NaN                     NaN   \n",
      "life_expectancy                               NaN                     NaN   \n",
      "\n",
      "                               urban_pop_minor_cities  \\\n",
      "surface_area                                      NaN   \n",
      "agricultural_land                                 NaN   \n",
      "forest_area                                       NaN   \n",
      "armed_forces_total                                NaN   \n",
      "urban_pop_major_cities                            NaN   \n",
      "urban_pop_minor_cities                            1.0   \n",
      "secure_internet_servers_total                     NaN   \n",
      "life_expectancy                                   NaN   \n",
      "\n",
      "                               secure_internet_servers_total  life_expectancy  \n",
      "surface_area                                             NaN              NaN  \n",
      "agricultural_land                                        NaN              NaN  \n",
      "forest_area                                              NaN              NaN  \n",
      "armed_forces_total                                       NaN              NaN  \n",
      "urban_pop_major_cities                                   NaN              NaN  \n",
      "urban_pop_minor_cities                                   NaN              NaN  \n",
      "secure_internet_servers_total                            1.0              NaN  \n",
      "life_expectancy                                          NaN              1.0  \n"
     ]
    },
    {
     "data": {
      "text/plain": [
       "<AxesSubplot:>"
      ]
     },
     "execution_count": 37,
     "metadata": {},
     "output_type": "execute_result"
    },
    {
     "data": {
      "image/png": "[encoded data removed]",
      "text/plain": [
       "<Figure size 640x480 with 2 Axes>"
      ]
     },
     "metadata": {},
     "output_type": "display_data"
    }
   ],
   "source": [
    "# high_corr = corr_matrix[(np.abs(corr_matrix) > 0.85) & (corr_matrix != 1.0)]\n",
    "c = df.select_dtypes(include = 'number').corr()\n",
    "c_high = c[np.abs(c)>0.85]\n",
    "print(c_high)\n",
    "sns.heatmap(c_high, cmap = 'PRGn', annot = True)"
   ]
  },
  {
   "cell_type": "markdown",
   "id": "ff0e296d",
   "metadata": {},
   "source": [
    "## Alta correlación \n",
    "Posiblemente multicolinearidad\n",
    "\n",
    "-   forest_area. Solo dejaremos ` agricultural_land`"
   ]
  },
  {
   "cell_type": "code",
   "execution_count": 38,
   "id": "6f921c9d",
   "metadata": {},
   "outputs": [],
   "source": [
    "out = ['surface_area',  'agricultural_land']   \n",
    "df = df.drop(columns = out).reset_index(drop = True)"
   ]
  },
  {
   "cell_type": "markdown",
   "id": "fd830e93",
   "metadata": {},
   "source": [
    "## Data Visualization"
   ]
  },
  {
   "cell_type": "code",
   "execution_count": 39,
   "id": "98f1dcd6",
   "metadata": {},
   "outputs": [
    {
     "data": {
      "text/plain": [
       "<AxesSubplot:title={'center':'life_expectancy'}, xlabel='women_parliament_seats_rate'>"
      ]
     },
     "execution_count": 39,
     "metadata": {},
     "output_type": "execute_result"
    },
    {
     "data": {
      "image/png": "[encoded data removed]",
      "text/plain": [
       "<Figure size 640x480 with 1 Axes>"
      ]
     },
     "metadata": {},
     "output_type": "display_data"
    },
    {
     "data": {
      "image/png": "[encoded data removed]",
      "text/plain": [
       "<Figure size 640x480 with 1 Axes>"
      ]
     },
     "metadata": {},
     "output_type": "display_data"
    },
    {
     "data": {
      "image/png": "[encoded data removed]",
      "text/plain": [
       "<Figure size 640x480 with 1 Axes>"
      ]
     },
     "metadata": {},
     "output_type": "display_data"
    },
    {
     "data": {
      "image/png": "[encoded data removed]",
      "text/plain": [
       "<Figure size 640x480 with 1 Axes>"
      ]
     },
     "metadata": {},
     "output_type": "display_data"
    },
    {
     "data": {
      "image/png": "[encoded data removed]",
      "text/plain": [
       "<Figure size 640x480 with 1 Axes>"
      ]
     },
     "metadata": {},
     "output_type": "display_data"
    },
    {
     "data": {
      "image/png": "[encoded data removed]",
      "text/plain": [
       "<Figure size 640x480 with 1 Axes>"
      ]
     },
     "metadata": {},
     "output_type": "display_data"
    }
   ],
   "source": [
    "# Histogama de esperanza de vida\n",
    "df['life_expectancy'].plot.hist()\n",
    "df.boxplot(column='life_expectancy', by = 'national_income')\n",
    "df.boxplot(column='life_expectancy', by = 'mobile_subscriptions')\n",
    "df.boxplot(column='life_expectancy', by = 'internet_users')\n",
    "df.boxplot(column='life_expectancy', by = 'improved_sanitation')\n",
    "df.boxplot(column='life_expectancy', by = 'women_parliament_seats_rate')"
   ]
  },
  {
   "cell_type": "code",
   "execution_count": null,
   "id": "cccdc84c",
   "metadata": {},
   "outputs": [
    {
     "name": "stdout",
     "output_type": "stream",
     "text": [
      "internet_users\n",
      "41 per 100 people      8\n",
      "60 per 100 people      7\n",
      "46 per 100 people      7\n",
      "unknown                6\n",
      "66 per 100 people      5\n",
      "                      ..\n",
      "64 per 1000 people     1\n",
      "154 per 1000 people    1\n",
      "37 per 1000 people     1\n",
      "30 per 1000 people     1\n",
      "374 per 1000 people    1\n",
      "Name: count, Length: 198, dtype: int64\n",
      "women_parliament_seats_rate\n",
      "[0%-25%)     249\n",
      "[25%-50%)     82\n",
      "unknown       30\n",
      "[50%-75%)      1\n",
      "Name: count, dtype: int64\n"
     ]
    }
   ],
   "source": [
    "# Frecuencias de casos por factores \n",
    "print(df['internet_users'].value_counts())\n",
    "print(df['women_parliament_seats_rate'].value_counts())"
   ]
  },
  {
   "cell_type": "code",
   "execution_count": 41,
   "id": "293f6130",
   "metadata": {},
   "outputs": [
    {
     "data": {
      "text/plain": [
       "women_parliament_seats_rate\n",
       "[0%-25%)     249\n",
       "[25%-50%)     82\n",
       "unknown       30\n",
       "Name: count, dtype: int64"
      ]
     },
     "execution_count": 41,
     "metadata": {},
     "output_type": "execute_result"
    }
   ],
   "source": [
    "# df para el modelo\n",
    "# df_sin_fila = df[df['x'] != 'a'].reset_index(drop=True)\n",
    "\n",
    "df = df[df['women_parliament_seats_rate'] != '[50%-75%)'].reset_index(drop=True)\n",
    "df['women_parliament_seats_rate'].value_counts()"
   ]
  },
  {
   "cell_type": "code",
   "execution_count": 42,
   "id": "50ca0c40",
   "metadata": {},
   "outputs": [],
   "source": [
    "df = df.drop(['internet_users'], axis=1)"
   ]
  },
  {
   "cell_type": "code",
   "execution_count": 43,
   "id": "eae4ec07",
   "metadata": {},
   "outputs": [
    {
     "name": "stdout",
     "output_type": "stream",
     "text": [
      "women_parliament_seats_rate\n",
      "[0%-25%)                       249\n",
      "[25%-50%)                       82\n",
      "unknown                         30\n",
      "Name: count, dtype: int64\n",
      "improved_sanitation\n",
      "very high access       155\n",
      "low access              55\n",
      "medium access           53\n",
      "high access             47\n",
      "very low access         33\n",
      "no info                 18\n",
      "Name: count, dtype: int64\n",
      "national_income\n",
      "low                81\n",
      "medium low         76\n",
      "very low           76\n",
      "unknown            48\n",
      "high               37\n",
      "medium high        31\n",
      "very high          12\n",
      "Name: count, dtype: int64\n",
      "mobile_subscriptions  \n",
      "more than 1 per person    188\n",
      "less than 1 per person    163\n",
      "unknown                     7\n",
      "more than 2 per person      2\n",
      "more than 3 per person      1\n",
      "Name: count, dtype: int64\n"
     ]
    }
   ],
   "source": [
    "print(df[['women_parliament_seats_rate']].value_counts())\n",
    "print(\n",
    "df[['improved_sanitation']].value_counts())\n",
    "print(\n",
    "df[['national_income']].value_counts())\n",
    "print(\n",
    "df[['mobile_subscriptions']].value_counts())"
   ]
  },
  {
   "cell_type": "code",
   "execution_count": 44,
   "id": "ca388e13",
   "metadata": {},
   "outputs": [
    {
     "name": "stdout",
     "output_type": "stream",
     "text": [
      "Index(['national_income', 'mobile_subscriptions', 'improved_sanitation',\n",
      "       'women_parliament_seats_rate'],\n",
      "      dtype='object')\n"
     ]
    }
   ],
   "source": [
    "print(df.select_dtypes(exclude='number').columns)"
   ]
  },
  {
   "cell_type": "markdown",
   "id": "03090e7d",
   "metadata": {},
   "source": [
    "## Daremos un ejemplo\n",
    " Over sampling con \"national_income\""
   ]
  },
  {
   "cell_type": "markdown",
   "id": "fa24fc03",
   "metadata": {},
   "source": [
    "##\n",
    "desbalanceada : mobile_subscriptions, etc.\n"
   ]
  },
  {
   "cell_type": "code",
   "execution_count": 45,
   "id": "41bda73f",
   "metadata": {},
   "outputs": [],
   "source": [
    "col = 'national_income'\n",
    "max_size = df[col].value_counts().max()\n",
    "# Agrupamos\n",
    "df_over = (\n",
    "    df.groupby(col)\n",
    "    .apply(lambda x: x.sample(n=max_size, replace = True, random_state=52))\n",
    "    .reset_index(drop=True)\n",
    ")"
   ]
  },
  {
   "cell_type": "code",
   "execution_count": 46,
   "id": "427d2e01",
   "metadata": {},
   "outputs": [
    {
     "data": {
      "text/plain": [
       "national_income\n",
       "high           81\n",
       "low            81\n",
       "medium high    81\n",
       "medium low     81\n",
       "unknown        81\n",
       "very high      81\n",
       "very low       81\n",
       "Name: count, dtype: int64"
      ]
     },
     "execution_count": 46,
     "metadata": {},
     "output_type": "execute_result"
    }
   ],
   "source": [
    "df_over['national_income'].value_counts()"
   ]
  },
  {
   "cell_type": "code",
   "execution_count": 47,
   "id": "4225c2fd",
   "metadata": {},
   "outputs": [],
   "source": [
    "# oversamplig para las otras"
   ]
  },
  {
   "cell_type": "markdown",
   "id": "dca62be4",
   "metadata": {},
   "source": [
    "## encoding"
   ]
  },
  {
   "cell_type": "code",
   "execution_count": 48,
   "id": "0b29fe51",
   "metadata": {},
   "outputs": [],
   "source": [
    "no_num= ['national_income', 'mobile_subscriptions', 'improved_sanitation',\n",
    "       'women_parliament_seats_rate']\n",
    "\n",
    "# Codificador\n",
    "encoder = OrdinalEncoder()\n",
    "\n",
    "# Codificar las columnas no numéricas\n",
    "df_over[no_num] = encoder.fit_transform(df_over[no_num])"
   ]
  },
  {
   "cell_type": "markdown",
   "id": "3f9ecd3a",
   "metadata": {},
   "source": [
    "## Entrenamiento del modelo\n",
    "\n",
    "- Y: esperanza de vida\n",
    "--- \n",
    "\n",
    "- X: surface_area ,  agricultural_land  ,  forest_area \n",
    "armed_forces_total               \n",
    "urban_pop_major_cities           \n",
    "urban_pop_minor_cities \n",
    "secure_internet_servers_total          \n",
    "---\n",
    "\n",
    "- Factors: \n",
    "national_income                  \n",
    "mobile_subscriptions                               \n",
    "improved_sanitation              \n",
    "women_parliament_seats_rate           \n",
    "$$\n",
    "Y \\sim X +  Factores + ruido\n",
    "$$\n"
   ]
  },
  {
   "cell_type": "code",
   "execution_count": 49,
   "id": "77b009c2",
   "metadata": {},
   "outputs": [
    {
     "name": "stdout",
     "output_type": "stream",
     "text": [
      "<class 'pandas.core.frame.DataFrame'>\n",
      "RangeIndex: 567 entries, 0 to 566\n",
      "Data columns (total 10 columns):\n",
      " #   Column                         Non-Null Count  Dtype  \n",
      "---  ------                         --------------  -----  \n",
      " 0   forest_area                    567 non-null    float64\n",
      " 1   armed_forces_total             567 non-null    float64\n",
      " 2   urban_pop_major_cities         567 non-null    float64\n",
      " 3   urban_pop_minor_cities         567 non-null    float64\n",
      " 4   national_income                567 non-null    float64\n",
      " 5   mobile_subscriptions           567 non-null    float64\n",
      " 6   secure_internet_servers_total  567 non-null    float64\n",
      " 7   improved_sanitation            567 non-null    float64\n",
      " 8   women_parliament_seats_rate    567 non-null    float64\n",
      " 9   life_expectancy                567 non-null    float64\n",
      "dtypes: float64(10)\n",
      "memory usage: 44.4 KB\n"
     ]
    }
   ],
   "source": [
    "df_over.info()"
   ]
  },
  {
   "cell_type": "code",
   "execution_count": 50,
   "id": "4f8e7047",
   "metadata": {},
   "outputs": [],
   "source": [
    "# \n",
    "Y = df_over['life_expectancy']\n",
    "X = df_over.drop('life_expectancy', axis=1)"
   ]
  },
  {
   "cell_type": "markdown",
   "id": "ce90a389",
   "metadata": {},
   "source": [
    "# División de los datos en train y test \n"
   ]
  },
  {
   "cell_type": "code",
   "execution_count": null,
   "id": "80af57aa",
   "metadata": {},
   "outputs": [
    {
     "name": "stdout",
     "output_type": "stream",
     "text": [
      "Mejores parametros:{'max_depth': 10, 'min_samples_split': 2, 'n_estimators': 100}\n"
     ]
    },
    {
     "ename": "NameError",
     "evalue": "name 'rmse' is not defined",
     "output_type": "error",
     "traceback": [
      "\u001b[1;31m---------------------------------------------------------------------------\u001b[0m",
      "\u001b[1;31mNameError\u001b[0m                                 Traceback (most recent call last)",
      "\u001b[1;32m~\\AppData\\Local\\Temp\\ipykernel_13284\\193454617.py\u001b[0m in \u001b[0;36m<module>\u001b[1;34m\u001b[0m\n\u001b[0;32m     26\u001b[0m \u001b[0mmae\u001b[0m \u001b[1;33m=\u001b[0m \u001b[0mmean_absolute_error\u001b[0m\u001b[1;33m(\u001b[0m\u001b[0mY_test\u001b[0m\u001b[1;33m,\u001b[0m \u001b[0mY_pred\u001b[0m\u001b[1;33m)\u001b[0m\u001b[1;33m\u001b[0m\u001b[1;33m\u001b[0m\u001b[0m\n\u001b[0;32m     27\u001b[0m \u001b[0mprint\u001b[0m\u001b[1;33m(\u001b[0m\u001b[1;34mf\"Mejores parametros:{grid.best_params_}\"\u001b[0m\u001b[1;33m)\u001b[0m\u001b[1;33m\u001b[0m\u001b[1;33m\u001b[0m\u001b[0m\n\u001b[1;32m---> 28\u001b[1;33m \u001b[0mprint\u001b[0m\u001b[1;33m(\u001b[0m\u001b[1;34mf\"Test MAE:{rmse:.2f}\"\u001b[0m\u001b[1;33m)\u001b[0m\u001b[1;33m\u001b[0m\u001b[1;33m\u001b[0m\u001b[0m\n\u001b[0m\u001b[0;32m     29\u001b[0m \u001b[1;33m\u001b[0m\u001b[0m\n",
      "\u001b[1;31mNameError\u001b[0m: name 'rmse' is not defined"
     ]
    }
   ],
   "source": [
    "# Dividimos los datos en train y test las matrices X e Y\n",
    "X_train, X_test, Y_train, Y_test = train_test_split(X, Y, test_size=0.2, random_state=52)\n",
    "\n",
    "# Cargamos el objeto del modelo\n",
    "random_forest = RandomForestRegressor(random_state=52)\n",
    "\n",
    "# Hiperparámetros para explorar\n",
    "param_grid = {\n",
    "    'n_estimators':[10, 50, 100],\n",
    "    'max_depth': [5,10, None],\n",
    "    'min_samples_split': [2,5, 10]\n",
    "}\n",
    "\n",
    "# Busqueda con validación cruzada (6 hojas)\n",
    "grid = GridSearchCV(random_forest, param_grid,cv=4, scoring='neg_root_mean_squared_error', n_jobs=1)\n",
    "grid.fit(X_train, Y_train)\n",
    "\n",
    "# Mejor modelo\n",
    "mejor_modelo = grid.best_estimator_\n",
    "\n",
    "\n",
    "# Predicciones\n",
    "Y_pred = mejor_modelo.predict(X_test)\n",
    "\n",
    "# MAE en el data de test\n",
    "mae = mean_absolute_error(Y_test, Y_pred)\n",
    "print(f\"Mejores parametros:{grid.best_params_}\")\n",
    "print(f\"Test MAE:{mae:.2f}\")\n",
    "\n"
   ]
  },
  {
   "cell_type": "code",
   "execution_count": 61,
   "id": "24b04612",
   "metadata": {},
   "outputs": [
    {
     "data": {
      "text/html": [
       "<style>#sk-container-id-1 {\n",
       "  /* Definition of color scheme common for light and dark mode */\n",
       "  --sklearn-color-text: black;\n",
       "  --sklearn-color-line: gray;\n",
       "  /* Definition of color scheme for unfitted estimators */\n",
       "  --sklearn-color-unfitted-level-0: #fff5e6;\n",
       "  --sklearn-color-unfitted-level-1: #f6e4d2;\n",
       "  --sklearn-color-unfitted-level-2: #ffe0b3;\n",
       "  --sklearn-color-unfitted-level-3: chocolate;\n",
       "  /* Definition of color scheme for fitted estimators */\n",
       "  --sklearn-color-fitted-level-0: #f0f8ff;\n",
       "  --sklearn-color-fitted-level-1: #d4ebff;\n",
       "  --sklearn-color-fitted-level-2: #b3dbfd;\n",
       "  --sklearn-color-fitted-level-3: cornflowerblue;\n",
       "\n",
       "  /* Specific color for light theme */\n",
       "  --sklearn-color-text-on-default-background: var(--sg-text-color, var(--theme-code-foreground, var(--jp-content-font-color1, black)));\n",
       "  --sklearn-color-background: var(--sg-background-color, var(--theme-background, var(--jp-layout-color0, white)));\n",
       "  --sklearn-color-border-box: var(--sg-text-color, var(--theme-code-foreground, var(--jp-content-font-color1, black)));\n",
       "  --sklearn-color-icon: #696969;\n",
       "\n",
       "  @media (prefers-color-scheme: dark) {\n",
       "    /* Redefinition of color scheme for dark theme */\n",
       "    --sklearn-color-text-on-default-background: var(--sg-text-color, var(--theme-code-foreground, var(--jp-content-font-color1, white)));\n",
       "    --sklearn-color-background: var(--sg-background-color, var(--theme-background, var(--jp-layout-color0, #111)));\n",
       "    --sklearn-color-border-box: var(--sg-text-color, var(--theme-code-foreground, var(--jp-content-font-color1, white)));\n",
       "    --sklearn-color-icon: #878787;\n",
       "  }\n",
       "}\n",
       "\n",
       "#sk-container-id-1 {\n",
       "  color: var(--sklearn-color-text);\n",
       "}\n",
       "\n",
       "#sk-container-id-1 pre {\n",
       "  padding: 0;\n",
       "}\n",
       "\n",
       "#sk-container-id-1 input.sk-hidden--visually {\n",
       "  border: 0;\n",
       "  clip: rect(1px 1px 1px 1px);\n",
       "  clip: rect(1px, 1px, 1px, 1px);\n",
       "  height: 1px;\n",
       "  margin: -1px;\n",
       "  overflow: hidden;\n",
       "  padding: 0;\n",
       "  position: absolute;\n",
       "  width: 1px;\n",
       "}\n",
       "\n",
       "#sk-container-id-1 div.sk-dashed-wrapped {\n",
       "  border: 1px dashed var(--sklearn-color-line);\n",
       "  margin: 0 0.4em 0.5em 0.4em;\n",
       "  box-sizing: border-box;\n",
       "  padding-bottom: 0.4em;\n",
       "  background-color: var(--sklearn-color-background);\n",
       "}\n",
       "\n",
       "#sk-container-id-1 div.sk-container {\n",
       "  /* jupyter's `normalize.less` sets `[hidden] { display: none; }`\n",
       "     but bootstrap.min.css set `[hidden] { display: none !important; }`\n",
       "     so we also need the `!important` here to be able to override the\n",
       "     default hidden behavior on the sphinx rendered scikit-learn.org.\n",
       "     See: https://github.com/scikit-learn/scikit-learn/issues/21755 */\n",
       "  display: inline-block !important;\n",
       "  position: relative;\n",
       "}\n",
       "\n",
       "#sk-container-id-1 div.sk-text-repr-fallback {\n",
       "  display: none;\n",
       "}\n",
       "\n",
       "div.sk-parallel-item,\n",
       "div.sk-serial,\n",
       "div.sk-item {\n",
       "  /* draw centered vertical line to link estimators */\n",
       "  background-image: linear-gradient(var(--sklearn-color-text-on-default-background), var(--sklearn-color-text-on-default-background));\n",
       "  background-size: 2px 100%;\n",
       "  background-repeat: no-repeat;\n",
       "  background-position: center center;\n",
       "}\n",
       "\n",
       "/* Parallel-specific style estimator block */\n",
       "\n",
       "#sk-container-id-1 div.sk-parallel-item::after {\n",
       "  content: \"\";\n",
       "  width: 100%;\n",
       "  border-bottom: 2px solid var(--sklearn-color-text-on-default-background);\n",
       "  flex-grow: 1;\n",
       "}\n",
       "\n",
       "#sk-container-id-1 div.sk-parallel {\n",
       "  display: flex;\n",
       "  align-items: stretch;\n",
       "  justify-content: center;\n",
       "  background-color: var(--sklearn-color-background);\n",
       "  position: relative;\n",
       "}\n",
       "\n",
       "#sk-container-id-1 div.sk-parallel-item {\n",
       "  display: flex;\n",
       "  flex-direction: column;\n",
       "}\n",
       "\n",
       "#sk-container-id-1 div.sk-parallel-item:first-child::after {\n",
       "  align-self: flex-end;\n",
       "  width: 50%;\n",
       "}\n",
       "\n",
       "#sk-container-id-1 div.sk-parallel-item:last-child::after {\n",
       "  align-self: flex-start;\n",
       "  width: 50%;\n",
       "}\n",
       "\n",
       "#sk-container-id-1 div.sk-parallel-item:only-child::after {\n",
       "  width: 0;\n",
       "}\n",
       "\n",
       "/* Serial-specific style estimator block */\n",
       "\n",
       "#sk-container-id-1 div.sk-serial {\n",
       "  display: flex;\n",
       "  flex-direction: column;\n",
       "  align-items: center;\n",
       "  background-color: var(--sklearn-color-background);\n",
       "  padding-right: 1em;\n",
       "  padding-left: 1em;\n",
       "}\n",
       "\n",
       "\n",
       "/* Toggleable style: style used for estimator/Pipeline/ColumnTransformer box that is\n",
       "clickable and can be expanded/collapsed.\n",
       "- Pipeline and ColumnTransformer use this feature and define the default style\n",
       "- Estimators will overwrite some part of the style using the `sk-estimator` class\n",
       "*/\n",
       "\n",
       "/* Pipeline and ColumnTransformer style (default) */\n",
       "\n",
       "#sk-container-id-1 div.sk-toggleable {\n",
       "  /* Default theme specific background. It is overwritten whether we have a\n",
       "  specific estimator or a Pipeline/ColumnTransformer */\n",
       "  background-color: var(--sklearn-color-background);\n",
       "}\n",
       "\n",
       "/* Toggleable label */\n",
       "#sk-container-id-1 label.sk-toggleable__label {\n",
       "  cursor: pointer;\n",
       "  display: block;\n",
       "  width: 100%;\n",
       "  margin-bottom: 0;\n",
       "  padding: 0.5em;\n",
       "  box-sizing: border-box;\n",
       "  text-align: center;\n",
       "}\n",
       "\n",
       "#sk-container-id-1 label.sk-toggleable__label-arrow:before {\n",
       "  /* Arrow on the left of the label */\n",
       "  content: \"▸\";\n",
       "  float: left;\n",
       "  margin-right: 0.25em;\n",
       "  color: var(--sklearn-color-icon);\n",
       "}\n",
       "\n",
       "#sk-container-id-1 label.sk-toggleable__label-arrow:hover:before {\n",
       "  color: var(--sklearn-color-text);\n",
       "}\n",
       "\n",
       "/* Toggleable content - dropdown */\n",
       "\n",
       "#sk-container-id-1 div.sk-toggleable__content {\n",
       "  max-height: 0;\n",
       "  max-width: 0;\n",
       "  overflow: hidden;\n",
       "  text-align: left;\n",
       "  /* unfitted */\n",
       "  background-color: var(--sklearn-color-unfitted-level-0);\n",
       "}\n",
       "\n",
       "#sk-container-id-1 div.sk-toggleable__content.fitted {\n",
       "  /* fitted */\n",
       "  background-color: var(--sklearn-color-fitted-level-0);\n",
       "}\n",
       "\n",
       "#sk-container-id-1 div.sk-toggleable__content pre {\n",
       "  margin: 0.2em;\n",
       "  border-radius: 0.25em;\n",
       "  color: var(--sklearn-color-text);\n",
       "  /* unfitted */\n",
       "  background-color: var(--sklearn-color-unfitted-level-0);\n",
       "}\n",
       "\n",
       "#sk-container-id-1 div.sk-toggleable__content.fitted pre {\n",
       "  /* unfitted */\n",
       "  background-color: var(--sklearn-color-fitted-level-0);\n",
       "}\n",
       "\n",
       "#sk-container-id-1 input.sk-toggleable__control:checked~div.sk-toggleable__content {\n",
       "  /* Expand drop-down */\n",
       "  max-height: 200px;\n",
       "  max-width: 100%;\n",
       "  overflow: auto;\n",
       "}\n",
       "\n",
       "#sk-container-id-1 input.sk-toggleable__control:checked~label.sk-toggleable__label-arrow:before {\n",
       "  content: \"▾\";\n",
       "}\n",
       "\n",
       "/* Pipeline/ColumnTransformer-specific style */\n",
       "\n",
       "#sk-container-id-1 div.sk-label input.sk-toggleable__control:checked~label.sk-toggleable__label {\n",
       "  color: var(--sklearn-color-text);\n",
       "  background-color: var(--sklearn-color-unfitted-level-2);\n",
       "}\n",
       "\n",
       "#sk-container-id-1 div.sk-label.fitted input.sk-toggleable__control:checked~label.sk-toggleable__label {\n",
       "  background-color: var(--sklearn-color-fitted-level-2);\n",
       "}\n",
       "\n",
       "/* Estimator-specific style */\n",
       "\n",
       "/* Colorize estimator box */\n",
       "#sk-container-id-1 div.sk-estimator input.sk-toggleable__control:checked~label.sk-toggleable__label {\n",
       "  /* unfitted */\n",
       "  background-color: var(--sklearn-color-unfitted-level-2);\n",
       "}\n",
       "\n",
       "#sk-container-id-1 div.sk-estimator.fitted input.sk-toggleable__control:checked~label.sk-toggleable__label {\n",
       "  /* fitted */\n",
       "  background-color: var(--sklearn-color-fitted-level-2);\n",
       "}\n",
       "\n",
       "#sk-container-id-1 div.sk-label label.sk-toggleable__label,\n",
       "#sk-container-id-1 div.sk-label label {\n",
       "  /* The background is the default theme color */\n",
       "  color: var(--sklearn-color-text-on-default-background);\n",
       "}\n",
       "\n",
       "/* On hover, darken the color of the background */\n",
       "#sk-container-id-1 div.sk-label:hover label.sk-toggleable__label {\n",
       "  color: var(--sklearn-color-text);\n",
       "  background-color: var(--sklearn-color-unfitted-level-2);\n",
       "}\n",
       "\n",
       "/* Label box, darken color on hover, fitted */\n",
       "#sk-container-id-1 div.sk-label.fitted:hover label.sk-toggleable__label.fitted {\n",
       "  color: var(--sklearn-color-text);\n",
       "  background-color: var(--sklearn-color-fitted-level-2);\n",
       "}\n",
       "\n",
       "/* Estimator label */\n",
       "\n",
       "#sk-container-id-1 div.sk-label label {\n",
       "  font-family: monospace;\n",
       "  font-weight: bold;\n",
       "  display: inline-block;\n",
       "  line-height: 1.2em;\n",
       "}\n",
       "\n",
       "#sk-container-id-1 div.sk-label-container {\n",
       "  text-align: center;\n",
       "}\n",
       "\n",
       "/* Estimator-specific */\n",
       "#sk-container-id-1 div.sk-estimator {\n",
       "  font-family: monospace;\n",
       "  border: 1px dotted var(--sklearn-color-border-box);\n",
       "  border-radius: 0.25em;\n",
       "  box-sizing: border-box;\n",
       "  margin-bottom: 0.5em;\n",
       "  /* unfitted */\n",
       "  background-color: var(--sklearn-color-unfitted-level-0);\n",
       "}\n",
       "\n",
       "#sk-container-id-1 div.sk-estimator.fitted {\n",
       "  /* fitted */\n",
       "  background-color: var(--sklearn-color-fitted-level-0);\n",
       "}\n",
       "\n",
       "/* on hover */\n",
       "#sk-container-id-1 div.sk-estimator:hover {\n",
       "  /* unfitted */\n",
       "  background-color: var(--sklearn-color-unfitted-level-2);\n",
       "}\n",
       "\n",
       "#sk-container-id-1 div.sk-estimator.fitted:hover {\n",
       "  /* fitted */\n",
       "  background-color: var(--sklearn-color-fitted-level-2);\n",
       "}\n",
       "\n",
       "/* Specification for estimator info (e.g. \"i\" and \"?\") */\n",
       "\n",
       "/* Common style for \"i\" and \"?\" */\n",
       "\n",
       ".sk-estimator-doc-link,\n",
       "a:link.sk-estimator-doc-link,\n",
       "a:visited.sk-estimator-doc-link {\n",
       "  float: right;\n",
       "  font-size: smaller;\n",
       "  line-height: 1em;\n",
       "  font-family: monospace;\n",
       "  background-color: var(--sklearn-color-background);\n",
       "  border-radius: 1em;\n",
       "  height: 1em;\n",
       "  width: 1em;\n",
       "  text-decoration: none !important;\n",
       "  margin-left: 1ex;\n",
       "  /* unfitted */\n",
       "  border: var(--sklearn-color-unfitted-level-1) 1pt solid;\n",
       "  color: var(--sklearn-color-unfitted-level-1);\n",
       "}\n",
       "\n",
       ".sk-estimator-doc-link.fitted,\n",
       "a:link.sk-estimator-doc-link.fitted,\n",
       "a:visited.sk-estimator-doc-link.fitted {\n",
       "  /* fitted */\n",
       "  border: var(--sklearn-color-fitted-level-1) 1pt solid;\n",
       "  color: var(--sklearn-color-fitted-level-1);\n",
       "}\n",
       "\n",
       "/* On hover */\n",
       "div.sk-estimator:hover .sk-estimator-doc-link:hover,\n",
       ".sk-estimator-doc-link:hover,\n",
       "div.sk-label-container:hover .sk-estimator-doc-link:hover,\n",
       ".sk-estimator-doc-link:hover {\n",
       "  /* unfitted */\n",
       "  background-color: var(--sklearn-color-unfitted-level-3);\n",
       "  color: var(--sklearn-color-background);\n",
       "  text-decoration: none;\n",
       "}\n",
       "\n",
       "div.sk-estimator.fitted:hover .sk-estimator-doc-link.fitted:hover,\n",
       ".sk-estimator-doc-link.fitted:hover,\n",
       "div.sk-label-container:hover .sk-estimator-doc-link.fitted:hover,\n",
       ".sk-estimator-doc-link.fitted:hover {\n",
       "  /* fitted */\n",
       "  background-color: var(--sklearn-color-fitted-level-3);\n",
       "  color: var(--sklearn-color-background);\n",
       "  text-decoration: none;\n",
       "}\n",
       "\n",
       "/* Span, style for the box shown on hovering the info icon */\n",
       ".sk-estimator-doc-link span {\n",
       "  display: none;\n",
       "  z-index: 9999;\n",
       "  position: relative;\n",
       "  font-weight: normal;\n",
       "  right: .2ex;\n",
       "  padding: .5ex;\n",
       "  margin: .5ex;\n",
       "  width: min-content;\n",
       "  min-width: 20ex;\n",
       "  max-width: 50ex;\n",
       "  color: var(--sklearn-color-text);\n",
       "  box-shadow: 2pt 2pt 4pt #999;\n",
       "  /* unfitted */\n",
       "  background: var(--sklearn-color-unfitted-level-0);\n",
       "  border: .5pt solid var(--sklearn-color-unfitted-level-3);\n",
       "}\n",
       "\n",
       ".sk-estimator-doc-link.fitted span {\n",
       "  /* fitted */\n",
       "  background: var(--sklearn-color-fitted-level-0);\n",
       "  border: var(--sklearn-color-fitted-level-3);\n",
       "}\n",
       "\n",
       ".sk-estimator-doc-link:hover span {\n",
       "  display: block;\n",
       "}\n",
       "\n",
       "/* \"?\"-specific style due to the `<a>` HTML tag */\n",
       "\n",
       "#sk-container-id-1 a.estimator_doc_link {\n",
       "  float: right;\n",
       "  font-size: 1rem;\n",
       "  line-height: 1em;\n",
       "  font-family: monospace;\n",
       "  background-color: var(--sklearn-color-background);\n",
       "  border-radius: 1rem;\n",
       "  height: 1rem;\n",
       "  width: 1rem;\n",
       "  text-decoration: none;\n",
       "  /* unfitted */\n",
       "  color: var(--sklearn-color-unfitted-level-1);\n",
       "  border: var(--sklearn-color-unfitted-level-1) 1pt solid;\n",
       "}\n",
       "\n",
       "#sk-container-id-1 a.estimator_doc_link.fitted {\n",
       "  /* fitted */\n",
       "  border: var(--sklearn-color-fitted-level-1) 1pt solid;\n",
       "  color: var(--sklearn-color-fitted-level-1);\n",
       "}\n",
       "\n",
       "/* On hover */\n",
       "#sk-container-id-1 a.estimator_doc_link:hover {\n",
       "  /* unfitted */\n",
       "  background-color: var(--sklearn-color-unfitted-level-3);\n",
       "  color: var(--sklearn-color-background);\n",
       "  text-decoration: none;\n",
       "}\n",
       "\n",
       "#sk-container-id-1 a.estimator_doc_link.fitted:hover {\n",
       "  /* fitted */\n",
       "  background-color: var(--sklearn-color-fitted-level-3);\n",
       "}\n",
       "</style><div id=\"sk-container-id-1\" class=\"sk-top-container\"><div class=\"sk-text-repr-fallback\"><pre>RandomForestRegressor(criterion=&#x27;absolute_error&#x27;, max_depth=10, random_state=52)</pre><b>In a Jupyter environment, please rerun this cell to show the HTML representation or trust the notebook. <br />On GitHub, the HTML representation is unable to render, please try loading this page with nbviewer.org.</b></div><div class=\"sk-container\" hidden><div class=\"sk-item\"><div class=\"sk-estimator fitted sk-toggleable\"><input class=\"sk-toggleable__control sk-hidden--visually\" id=\"sk-estimator-id-1\" type=\"checkbox\" checked><label for=\"sk-estimator-id-1\" class=\"sk-toggleable__label fitted sk-toggleable__label-arrow fitted\">&nbsp;&nbsp;RandomForestRegressor<a class=\"sk-estimator-doc-link fitted\" rel=\"noreferrer\" target=\"_blank\" href=\"https://scikit-learn.org/1.5/modules/generated/sklearn.ensemble.RandomForestRegressor.html\">?<span>Documentation for RandomForestRegressor</span></a><span class=\"sk-estimator-doc-link fitted\">i<span>Fitted</span></span></label><div class=\"sk-toggleable__content fitted\"><pre>RandomForestRegressor(criterion=&#x27;absolute_error&#x27;, max_depth=10, random_state=52)</pre></div> </div></div></div></div>"
      ],
      "text/plain": [
       "RandomForestRegressor(criterion='absolute_error', max_depth=10, random_state=52)"
      ]
     },
     "execution_count": 61,
     "metadata": {},
     "output_type": "execute_result"
    }
   ],
   "source": [
    "modelo_select = RandomForestRegressor(max_depth=10, min_samples_split = 2, n_estimators=100,\n",
    "                 random_state=52, criterion = 'absolute_error')\n",
    "modelo_select.fit(X,Y)"
   ]
  },
  {
   "cell_type": "markdown",
   "id": "d84d8782",
   "metadata": {},
   "source": [
    "# Predicciones"
   ]
  },
  {
   "cell_type": "code",
   "execution_count": 86,
   "id": "fc0f1965",
   "metadata": {},
   "outputs": [
    {
     "name": "stdout",
     "output_type": "stream",
     "text": [
      "(100, 9)\n"
     ]
    }
   ],
   "source": [
    "test = pd.read_csv(\"test.csv\", index_col=0)\n",
    "# Dejamos las columnas empleadas efecivemente en el modelo\n",
    "cols=list(df_over.drop('life_expectancy', axis=1).columns)\n",
    "test=test[cols]\n",
    "#print(test.columns)\n",
    "print(test.shape)\n",
    "# test.head(10)"
   ]
  },
  {
   "cell_type": "code",
   "execution_count": 87,
   "id": "d094edb7",
   "metadata": {},
   "outputs": [
    {
     "data": {
      "text/plain": [
       "forest_area                       5\n",
       "armed_forces_total               17\n",
       "urban_pop_major_cities            2\n",
       "urban_pop_minor_cities            2\n",
       "national_income                   0\n",
       "mobile_subscriptions              0\n",
       "secure_internet_servers_total     9\n",
       "improved_sanitation               0\n",
       "women_parliament_seats_rate       0\n",
       "dtype: int64"
      ]
     },
     "execution_count": 87,
     "metadata": {},
     "output_type": "execute_result"
    }
   ],
   "source": [
    "test.isnull().sum()"
   ]
  },
  {
   "cell_type": "markdown",
   "id": "3326e2db",
   "metadata": {},
   "source": [
    "# Imputacion de las variables numericas\n",
    "\n",
    "\n"
   ]
  },
  {
   "cell_type": "code",
   "execution_count": 88,
   "id": "c137cf1b",
   "metadata": {},
   "outputs": [
    {
     "data": {
      "text/plain": [
       "forest_area                      0\n",
       "armed_forces_total               0\n",
       "urban_pop_major_cities           0\n",
       "urban_pop_minor_cities           0\n",
       "national_income                  0\n",
       "mobile_subscriptions             0\n",
       "secure_internet_servers_total    0\n",
       "improved_sanitation              0\n",
       "women_parliament_seats_rate      0\n",
       "dtype: int64"
      ]
     },
     "execution_count": 88,
     "metadata": {},
     "output_type": "execute_result"
    }
   ],
   "source": [
    "# Imputacion de datos faltantes por la media de cada columna\n",
    "test = test.fillna(test.mean(numeric_only=True))\n",
    "test.isnull().sum()"
   ]
  },
  {
   "cell_type": "code",
   "execution_count": 79,
   "id": "e677e62c",
   "metadata": {},
   "outputs": [
    {
     "data": {
      "text/html": [
       "<div>\n",
       "<style scoped>\n",
       "    .dataframe tbody tr th:only-of-type {\n",
       "        vertical-align: middle;\n",
       "    }\n",
       "\n",
       "    .dataframe tbody tr th {\n",
       "        vertical-align: top;\n",
       "    }\n",
       "\n",
       "    .dataframe thead th {\n",
       "        text-align: right;\n",
       "    }\n",
       "</style>\n",
       "<table border=\"1\" class=\"dataframe\">\n",
       "  <thead>\n",
       "    <tr style=\"text-align: right;\">\n",
       "      <th></th>\n",
       "      <th>forest_area</th>\n",
       "      <th>armed_forces_total</th>\n",
       "      <th>urban_pop_major_cities</th>\n",
       "      <th>urban_pop_minor_cities</th>\n",
       "      <th>national_income</th>\n",
       "      <th>mobile_subscriptions</th>\n",
       "      <th>secure_internet_servers_total</th>\n",
       "      <th>improved_sanitation</th>\n",
       "      <th>women_parliament_seats_rate</th>\n",
       "    </tr>\n",
       "  </thead>\n",
       "  <tbody>\n",
       "    <tr>\n",
       "      <th>9</th>\n",
       "      <td>1.054769e+07</td>\n",
       "      <td>854473.216867</td>\n",
       "      <td>0.846584</td>\n",
       "      <td>51.919416</td>\n",
       "      <td>low</td>\n",
       "      <td>less than 1 per person</td>\n",
       "      <td>1849926.0</td>\n",
       "      <td>very low access</td>\n",
       "      <td>[0%-25%)</td>\n",
       "    </tr>\n",
       "    <tr>\n",
       "      <th>16</th>\n",
       "      <td>1.641032e+07</td>\n",
       "      <td>453550.000000</td>\n",
       "      <td>42.139810</td>\n",
       "      <td>5.803190</td>\n",
       "      <td>low</td>\n",
       "      <td>more than 1 per person</td>\n",
       "      <td>17983312.0</td>\n",
       "      <td>very high access</td>\n",
       "      <td>[0%-25%)</td>\n",
       "    </tr>\n",
       "    <tr>\n",
       "      <th>19</th>\n",
       "      <td>8.527691e+05</td>\n",
       "      <td>854473.216867</td>\n",
       "      <td>1.699056</td>\n",
       "      <td>67.396944</td>\n",
       "      <td>unknown</td>\n",
       "      <td>less than 1 per person</td>\n",
       "      <td>240458015.0</td>\n",
       "      <td>very high access</td>\n",
       "      <td>unknown</td>\n",
       "    </tr>\n",
       "    <tr>\n",
       "      <th>23</th>\n",
       "      <td>4.857911e+06</td>\n",
       "      <td>20000.000000</td>\n",
       "      <td>48.602426</td>\n",
       "      <td>4.934574</td>\n",
       "      <td>low</td>\n",
       "      <td>less than 1 per person</td>\n",
       "      <td>9427882.0</td>\n",
       "      <td>high access</td>\n",
       "      <td>[0%-25%)</td>\n",
       "    </tr>\n",
       "    <tr>\n",
       "      <th>28</th>\n",
       "      <td>1.171853e+07</td>\n",
       "      <td>612800.000000</td>\n",
       "      <td>43.734006</td>\n",
       "      <td>28.635994</td>\n",
       "      <td>medium low</td>\n",
       "      <td>less than 1 per person</td>\n",
       "      <td>50379814.0</td>\n",
       "      <td>very high access</td>\n",
       "      <td>[0%-25%)</td>\n",
       "    </tr>\n",
       "  </tbody>\n",
       "</table>\n",
       "</div>"
      ],
      "text/plain": [
       "     forest_area  armed_forces_total  urban_pop_major_cities  \\\n",
       "9   1.054769e+07       854473.216867                0.846584   \n",
       "16  1.641032e+07       453550.000000               42.139810   \n",
       "19  8.527691e+05       854473.216867                1.699056   \n",
       "23  4.857911e+06        20000.000000               48.602426   \n",
       "28  1.171853e+07       612800.000000               43.734006   \n",
       "\n",
       "    urban_pop_minor_cities national_income    mobile_subscriptions  \\\n",
       "9                51.919416             low  less than 1 per person   \n",
       "16                5.803190             low  more than 1 per person   \n",
       "19               67.396944         unknown  less than 1 per person   \n",
       "23                4.934574             low  less than 1 per person   \n",
       "28               28.635994      medium low  less than 1 per person   \n",
       "\n",
       "    secure_internet_servers_total improved_sanitation  \\\n",
       "9                       1849926.0     very low access   \n",
       "16                     17983312.0    very high access   \n",
       "19                    240458015.0    very high access   \n",
       "23                      9427882.0         high access   \n",
       "28                     50379814.0    very high access   \n",
       "\n",
       "   women_parliament_seats_rate  \n",
       "9                     [0%-25%)  \n",
       "16                    [0%-25%)  \n",
       "19                     unknown  \n",
       "23                    [0%-25%)  \n",
       "28                    [0%-25%)  "
      ]
     },
     "execution_count": 79,
     "metadata": {},
     "output_type": "execute_result"
    }
   ],
   "source": [
    "# Codificar variables no numericas\n",
    "test.head()"
   ]
  },
  {
   "cell_type": "code",
   "execution_count": 89,
   "id": "fd461532",
   "metadata": {},
   "outputs": [
    {
     "name": "stdout",
     "output_type": "stream",
     "text": [
      "improved_sanitation\n",
      "very high access    33\n",
      "high access         20\n",
      "low access          14\n",
      "very low access     12\n",
      "no info             11\n",
      "medium access       10\n",
      "Name: count, dtype: int64\n",
      "women_parliament_seats_rate\n",
      "[0%-25%)     65\n",
      "[25%-50%)    24\n",
      "unknown      10\n",
      "[50%-75%)     1\n",
      "Name: count, dtype: int64\n"
     ]
    }
   ],
   "source": [
    "# Frecuencias de casos por factores \n",
    "print(test['improved_sanitation'].value_counts())\n",
    "print(test['women_parliament_seats_rate'].value_counts())"
   ]
  },
  {
   "cell_type": "code",
   "execution_count": 91,
   "id": "d66520f9",
   "metadata": {},
   "outputs": [],
   "source": [
    "# Codificación de las variables cuali en test.csv\n",
    "no_num= ['national_income', 'mobile_subscriptions', 'improved_sanitation',\n",
    "       'women_parliament_seats_rate']\n",
    "\n",
    "# Codificador\n",
    "encoder = OrdinalEncoder()\n",
    "\n",
    "# Codificar las columnas no numéricas\n",
    "test[no_num] = encoder.fit_transform(test[no_num])"
   ]
  },
  {
   "cell_type": "code",
   "execution_count": 93,
   "id": "9fec9171",
   "metadata": {},
   "outputs": [
    {
     "name": "stdout",
     "output_type": "stream",
     "text": [
      "[69.7159907  72.80669794 77.09805818 67.36337342 74.67607326 60.04454791\n",
      " 73.77332306 71.83955687 73.06723906 72.03082514 73.11205846 79.10642963\n",
      " 62.93533993 62.54973859 81.36279756 73.9794098  79.99552533 75.25155926\n",
      " 76.88232283 64.43721301 61.0371298  70.96286423 72.57531248 77.9125313\n",
      " 72.15136136 71.73170657 58.35159168 81.39226855 80.96937927 79.47462951\n",
      " 72.88852702 70.27832748 60.78673445 64.58708227 80.88035881 78.22568171\n",
      " 75.62813442 79.63408171 74.80222307 79.92262902 73.95359721 67.54511395\n",
      " 65.87038638 54.87617936 58.01493353 76.67691073 60.76985018 67.41641625\n",
      " 55.31916488 78.72041859 78.65009388 75.82621708 72.08227577 81.76146172\n",
      " 57.19253171 80.44666544 81.82599907 61.43420428 72.51713283 67.84516941\n",
      " 70.05606054 71.58535358 54.1085078  62.88748329 70.10925676 53.6423\n",
      " 72.52973486 70.67832012 74.27637363 73.35281017 64.45363597 67.93371686\n",
      " 62.32812768 73.3067318  59.3295413  60.81637336 80.6898912  72.44943894\n",
      " 79.99552533 73.31468037 79.80979028 73.37994923 75.66641776 72.35041923\n",
      " 73.97076019 67.24786723 68.09880338 78.45257094 80.73178908 70.29742864\n",
      " 81.68626622 74.96138881 71.19107532 67.96129175 72.71417936 53.71144195\n",
      " 76.4318889  72.38907701 59.20983759 69.98788549]\n"
     ]
    }
   ],
   "source": [
    "y_pred = modelo_select.predict(test)\n",
    "print(y_pred)"
   ]
  },
  {
   "cell_type": "code",
   "execution_count": 94,
   "id": "77a1f387",
   "metadata": {},
   "outputs": [
    {
     "data": {
      "image/png": "[encoded data removed]",
      "text/plain": [
       "<Figure size 700x400 with 1 Axes>"
      ]
     },
     "metadata": {},
     "output_type": "display_data"
    }
   ],
   "source": [
    "# Importancia de las covariables\n",
    "\n",
    "# Extract feature importance determined by RF model\n",
    "feature_imp = pd.Series(modelo_select.feature_importances_, index=X.columns)\n",
    "feature_imp.sort_values(ascending=True, inplace=True)\n",
    "\n",
    "# Creating a bar plot\n",
    "feature_imp.plot(kind='barh', width=0.8, figsize=(7,4));"
   ]
  },
  {
   "cell_type": "code",
   "execution_count": 97,
   "id": "81bb39ad",
   "metadata": {},
   "outputs": [],
   "source": [
    "# guardar respuestas\n",
    "\n",
    "# Create a submission_df\n",
    "d = {'id': test.index, 'life_expectancy': y_pred}\n",
    "submission_df = pd.DataFrame(data=d)\n",
    "submission_df.to_csv('submissions0.csv',index=False)\n",
    "# submission_df\n"
   ]
  }
 ],
 "metadata": {
  "kernelspec": {
   "display_name": "base",
   "language": "python",
   "name": "python3"
  },
  "language_info": {
   "codemirror_mode": {
    "name": "ipython",
    "version": 3
   },
   "file_extension": ".py",
   "mimetype": "text/x-python",
   "name": "python",
   "nbconvert_exporter": "python",
   "pygments_lexer": "ipython3",
   "version": "3.9.13"
  }
 },
 "nbformat": 4,
 "nbformat_minor": 5
}
